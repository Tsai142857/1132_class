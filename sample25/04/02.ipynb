{
  "cells": [
    {
      "cell_type": "markdown",
      "metadata": {
        "id": "view-in-github",
        "colab_type": "text"
      },
      "source": [
        "<a href=\"https://colab.research.google.com/github/Tsai142857/1132_class/blob/main/sample25/04/02.ipynb\" target=\"_parent\"><img src=\"https://colab.research.google.com/assets/colab-badge.svg\" alt=\"Open In Colab\"/></a>"
      ]
    },
    {
      "cell_type": "markdown",
      "metadata": {
        "id": "IVwbll6nkNbm"
      },
      "source": [
        "# Set up the Notebook"
      ]
    },
    {
      "cell_type": "code",
      "execution_count": 4,
      "metadata": {
        "id": "92p_6sLee2aj"
      },
      "outputs": [],
      "source": [
        "#import pandas and numpy\n",
        "import pandas as pd\n",
        "import numpy as np\n",
        "\n",
        "#PCA\n",
        "from sklearn.decomposition import PCA\n",
        "\n",
        "#import standard classification tools from sklearn\n",
        "from sklearn.metrics import classification_report, confusion_matrix, accuracy_score\n",
        "from sklearn.ensemble import RandomForestClassifier\n",
        "import itertools\n",
        "\n",
        "#classification model\n",
        "from sklearn.model_selection import train_test_split\n",
        "\n",
        "#visualization\n",
        "import matplotlib.pyplot as plt\n",
        "import seaborn as sns\n",
        "\n",
        "#plotly\n",
        "import plotly.express as px\n",
        "import plotly.graph_objects as go\n",
        "import plotly.figure_factory as ff\n",
        "\n",
        "template = 'ggplot2'"
      ]
    },
    {
      "cell_type": "markdown",
      "metadata": {
        "id": "GQbInpuWiSqQ"
      },
      "source": [
        "# Import and Prepare Data"
      ]
    },
    {
      "cell_type": "code",
      "execution_count": 5,
      "metadata": {
        "colab": {
          "base_uri": "https://localhost:8080/"
        },
        "id": "GU12oxNkh87a",
        "outputId": "d5b7634a-0eed-477b-d613-4b392fcfb2ac"
      },
      "outputs": [
        {
          "output_type": "stream",
          "name": "stdout",
          "text": [
            "Basal 6 / 14\n",
            "Claudin-low 2 / 6\n",
            "Luminal 11 / 27\n",
            "Normal-like 2 / 5\n"
          ]
        }
      ],
      "source": [
        "#load data\n",
        "data = pd.read_table('https://raw.githubusercontent.com/PineBiotech/omicslogic/master/CellLines_52samples_ExprData_T1.txt',sep='\\t',header=(0))\n",
        "features = data.iloc[1:, 0].values\n",
        "\n",
        "#add the gene id to index column\n",
        "data.index = data.id\n",
        "\n",
        "#drop or remove \"id\" column from the data\n",
        "data=data.drop(['id'], axis = 1)\n",
        "\n",
        "#transpose\n",
        "dataT = np.transpose(data)\n",
        "\n",
        "#prepare train and test data\n",
        "X = dataT.iloc[:, 1:].values\n",
        "y = dataT.iloc[:, 0].values\n",
        "\n",
        "#save class names\n",
        "classes = np.unique(y)\n",
        "n_classes = len(classes)\n",
        "cat = dataT['class']\n",
        "\n",
        "#prepare train and test data (try changing test_size, enable/disable stratification)\n",
        "X_train, X_test, y_train, y_test = train_test_split(\n",
        "    X, y, test_size=0.4, random_state=0, stratify = y)\n",
        "\n",
        "#print out test class proportion from total\n",
        "for i in range(len(classes)):\n",
        "  print(classes[i], y_test.tolist().count(classes[i]), \"/\", y.tolist().count(classes[i]))"
      ]
    },
    {
      "cell_type": "code",
      "execution_count": null,
      "metadata": {
        "colab": {
          "base_uri": "https://localhost:8080/",
          "height": 255
        },
        "id": "hGny4D7k8CMA",
        "outputId": "89cda470-ebd4-443e-8e43-6d4c4ffed38d"
      },
      "outputs": [
        {
          "data": {
            "text/html": [
              "<div>\n",
              "<style scoped>\n",
              "    .dataframe tbody tr th:only-of-type {\n",
              "        vertical-align: middle;\n",
              "    }\n",
              "\n",
              "    .dataframe tbody tr th {\n",
              "        vertical-align: top;\n",
              "    }\n",
              "\n",
              "    .dataframe thead th {\n",
              "        text-align: right;\n",
              "    }\n",
              "</style>\n",
              "<table border=\"1\" class=\"dataframe\">\n",
              "  <thead>\n",
              "    <tr style=\"text-align: right;\">\n",
              "      <th>id</th>\n",
              "      <th>ENSG00000000419</th>\n",
              "      <th>ENSG00000001036</th>\n",
              "      <th>ENSG00000001084</th>\n",
              "      <th>ENSG00000001497</th>\n",
              "      <th>ENSG00000001617</th>\n",
              "      <th>ENSG00000001630</th>\n",
              "      <th>ENSG00000001631</th>\n",
              "      <th>ENSG00000002330</th>\n",
              "      <th>ENSG00000002549</th>\n",
              "      <th>ENSG00000002586</th>\n",
              "      <th>...</th>\n",
              "      <th>ENSG00000269871</th>\n",
              "      <th>ENSG00000269893</th>\n",
              "      <th>ENSG00000269897</th>\n",
              "      <th>ENSG00000269900</th>\n",
              "      <th>ENSG00000269968</th>\n",
              "      <th>ENSG00000270016</th>\n",
              "      <th>ENSG00000270149</th>\n",
              "      <th>ENSG00000270161</th>\n",
              "      <th>ENSG00000270168</th>\n",
              "      <th>ENSG00000270170</th>\n",
              "    </tr>\n",
              "  </thead>\n",
              "  <tbody>\n",
              "    <tr>\n",
              "      <th>184A1</th>\n",
              "      <td>6.06</td>\n",
              "      <td>4.47</td>\n",
              "      <td>4.47</td>\n",
              "      <td>5.27</td>\n",
              "      <td>6.05</td>\n",
              "      <td>6.24</td>\n",
              "      <td>4.17</td>\n",
              "      <td>6.55</td>\n",
              "      <td>5.19</td>\n",
              "      <td>7.12</td>\n",
              "      <td>...</td>\n",
              "      <td>7.34</td>\n",
              "      <td>7.89</td>\n",
              "      <td>5.4</td>\n",
              "      <td>5.28</td>\n",
              "      <td>5.74</td>\n",
              "      <td>0.04</td>\n",
              "      <td>4.39</td>\n",
              "      <td>4.09</td>\n",
              "      <td>2.17</td>\n",
              "      <td>3.99</td>\n",
              "    </tr>\n",
              "    <tr>\n",
              "      <th>184B5</th>\n",
              "      <td>5.25</td>\n",
              "      <td>5.39</td>\n",
              "      <td>6</td>\n",
              "      <td>4.27</td>\n",
              "      <td>7.31</td>\n",
              "      <td>5.26</td>\n",
              "      <td>3.51</td>\n",
              "      <td>7.49</td>\n",
              "      <td>4.54</td>\n",
              "      <td>6.53</td>\n",
              "      <td>...</td>\n",
              "      <td>7.53</td>\n",
              "      <td>8.44</td>\n",
              "      <td>5.19</td>\n",
              "      <td>0</td>\n",
              "      <td>5.92</td>\n",
              "      <td>0</td>\n",
              "      <td>4.98</td>\n",
              "      <td>3.9</td>\n",
              "      <td>1.6</td>\n",
              "      <td>4.65</td>\n",
              "    </tr>\n",
              "    <tr>\n",
              "      <th>21MT1</th>\n",
              "      <td>5.15</td>\n",
              "      <td>5.28</td>\n",
              "      <td>5.77</td>\n",
              "      <td>6.58</td>\n",
              "      <td>3.99</td>\n",
              "      <td>5.67</td>\n",
              "      <td>3.86</td>\n",
              "      <td>5.69</td>\n",
              "      <td>4.64</td>\n",
              "      <td>6.17</td>\n",
              "      <td>...</td>\n",
              "      <td>7.43</td>\n",
              "      <td>4.7</td>\n",
              "      <td>5.27</td>\n",
              "      <td>5.99</td>\n",
              "      <td>1.91</td>\n",
              "      <td>0</td>\n",
              "      <td>4.78</td>\n",
              "      <td>6.49</td>\n",
              "      <td>2.7</td>\n",
              "      <td>5.92</td>\n",
              "    </tr>\n",
              "    <tr>\n",
              "      <th>21NT</th>\n",
              "      <td>5.36</td>\n",
              "      <td>5.82</td>\n",
              "      <td>5.76</td>\n",
              "      <td>5.54</td>\n",
              "      <td>5.93</td>\n",
              "      <td>6.11</td>\n",
              "      <td>5.12</td>\n",
              "      <td>5</td>\n",
              "      <td>4.64</td>\n",
              "      <td>6.76</td>\n",
              "      <td>...</td>\n",
              "      <td>7.61</td>\n",
              "      <td>5.24</td>\n",
              "      <td>5.54</td>\n",
              "      <td>7.25</td>\n",
              "      <td>2.1</td>\n",
              "      <td>0.16</td>\n",
              "      <td>5.07</td>\n",
              "      <td>6.22</td>\n",
              "      <td>3.12</td>\n",
              "      <td>5.89</td>\n",
              "    </tr>\n",
              "    <tr>\n",
              "      <th>21PT</th>\n",
              "      <td>5.22</td>\n",
              "      <td>5.75</td>\n",
              "      <td>5.76</td>\n",
              "      <td>5.57</td>\n",
              "      <td>5.98</td>\n",
              "      <td>5.77</td>\n",
              "      <td>4.75</td>\n",
              "      <td>4.9</td>\n",
              "      <td>4.81</td>\n",
              "      <td>6.64</td>\n",
              "      <td>...</td>\n",
              "      <td>7.57</td>\n",
              "      <td>4.8</td>\n",
              "      <td>5.33</td>\n",
              "      <td>7.6</td>\n",
              "      <td>2.66</td>\n",
              "      <td>0</td>\n",
              "      <td>4.81</td>\n",
              "      <td>6.35</td>\n",
              "      <td>3.79</td>\n",
              "      <td>5.97</td>\n",
              "    </tr>\n",
              "  </tbody>\n",
              "</table>\n",
              "<p>5 rows × 6916 columns</p>\n",
              "</div>"
            ],
            "text/plain": [
              "id    ENSG00000000419 ENSG00000001036 ENSG00000001084 ENSG00000001497  \\\n",
              "184A1            6.06            4.47            4.47            5.27   \n",
              "184B5            5.25            5.39               6            4.27   \n",
              "21MT1            5.15            5.28            5.77            6.58   \n",
              "21NT             5.36            5.82            5.76            5.54   \n",
              "21PT             5.22            5.75            5.76            5.57   \n",
              "\n",
              "id    ENSG00000001617 ENSG00000001630 ENSG00000001631 ENSG00000002330  \\\n",
              "184A1            6.05            6.24            4.17            6.55   \n",
              "184B5            7.31            5.26            3.51            7.49   \n",
              "21MT1            3.99            5.67            3.86            5.69   \n",
              "21NT             5.93            6.11            5.12               5   \n",
              "21PT             5.98            5.77            4.75             4.9   \n",
              "\n",
              "id    ENSG00000002549 ENSG00000002586  ... ENSG00000269871 ENSG00000269893  \\\n",
              "184A1            5.19            7.12  ...            7.34            7.89   \n",
              "184B5            4.54            6.53  ...            7.53            8.44   \n",
              "21MT1            4.64            6.17  ...            7.43             4.7   \n",
              "21NT             4.64            6.76  ...            7.61            5.24   \n",
              "21PT             4.81            6.64  ...            7.57             4.8   \n",
              "\n",
              "id    ENSG00000269897 ENSG00000269900 ENSG00000269968 ENSG00000270016  \\\n",
              "184A1             5.4            5.28            5.74            0.04   \n",
              "184B5            5.19               0            5.92               0   \n",
              "21MT1            5.27            5.99            1.91               0   \n",
              "21NT             5.54            7.25             2.1            0.16   \n",
              "21PT             5.33             7.6            2.66               0   \n",
              "\n",
              "id    ENSG00000270149 ENSG00000270161 ENSG00000270168 ENSG00000270170  \n",
              "184A1            4.39            4.09            2.17            3.99  \n",
              "184B5            4.98             3.9             1.6            4.65  \n",
              "21MT1            4.78            6.49             2.7            5.92  \n",
              "21NT             5.07            6.22            3.12            5.89  \n",
              "21PT             4.81            6.35            3.79            5.97  \n",
              "\n",
              "[5 rows x 6916 columns]"
            ]
          },
          "execution_count": 90,
          "metadata": {},
          "output_type": "execute_result"
        }
      ],
      "source": [
        "dataT = dataT.drop(columns=['class'])\n",
        "dataT.head()"
      ]
    },
    {
      "cell_type": "code",
      "execution_count": null,
      "metadata": {
        "colab": {
          "base_uri": "https://localhost:8080/",
          "height": 817
        },
        "id": "f5X-3lhgv4Rg",
        "outputId": "d68b3131-4063-44fa-f540-2962abc41a1f"
      },
      "outputs": [
        {
          "data": {
            "application/vnd.plotly.v1+json": {
              "config": {
                "plotlyServerURL": "https://plot.ly"
              },
              "data": [
                {
                  "hovertemplate": "color=Normal-like<br>PC1 18.08%=%{x}<br>PC2 12.62%=%{y}<br>PC3 6.75%=%{z}<extra></extra>",
                  "legendgroup": "Normal-like",
                  "marker": {
                    "color": "#636efa",
                    "symbol": "circle"
                  },
                  "mode": "markers",
                  "name": "Normal-like",
                  "scene": "scene",
                  "showlegend": true,
                  "type": "scatter3d",
                  "x": [
                    59.67593711777891,
                    46.90640011080296,
                    65.88101928821777,
                    65.85132866802891,
                    63.33427252450927
                  ],
                  "y": [
                    -8.464440194588164,
                    -8.147381810491808,
                    -2.894655947593776,
                    -21.940351565720746,
                    -39.26750546302539
                  ],
                  "z": [
                    24.42378109868313,
                    50.638092634006334,
                    29.724279097148745,
                    34.43751389952843,
                    17.316291407952438
                  ]
                },
                {
                  "hovertemplate": "color=Basal<br>PC1 18.08%=%{x}<br>PC2 12.62%=%{y}<br>PC3 6.75%=%{z}<extra></extra>",
                  "legendgroup": "Basal",
                  "marker": {
                    "color": "#EF553B",
                    "symbol": "circle"
                  },
                  "mode": "markers",
                  "name": "Basal",
                  "scene": "scene",
                  "showlegend": true,
                  "type": "scatter3d",
                  "x": [
                    34.59625981118136,
                    34.29315195668823,
                    35.0721925594261,
                    41.70705560064368,
                    21.360416082050854,
                    50.10927871780775,
                    36.56406129843313,
                    17.776647963503322,
                    32.94363911711593,
                    17.63206161524633,
                    34.82868227464697,
                    30.25502615124894,
                    40.5955823929239,
                    38.3522273785546
                  ],
                  "y": [
                    -57.23915741389912,
                    -48.18235217523541,
                    -50.30104365192382,
                    22.255474044660374,
                    6.225353499664578,
                    18.181274654756535,
                    -2.9159144485678326,
                    5.918025997215707,
                    4.4786348933130995,
                    6.082771664066385,
                    36.72361624222924,
                    -29.030522357993917,
                    -25.938308909776723,
                    -47.49680835928264
                  ],
                  "z": [
                    -0.3381189603454757,
                    7.278913200882407,
                    3.785866885892797,
                    -1.9023791505825631,
                    0.5780993605662879,
                    10.383826230966186,
                    17.09642495994754,
                    38.89339389896539,
                    18.757999487940545,
                    42.782436934525585,
                    18.203409260922758,
                    -1.6406744975029177,
                    -1.1783469090293544,
                    6.580625564583795
                  ]
                },
                {
                  "hovertemplate": "color=Luminal<br>PC1 18.08%=%{x}<br>PC2 12.62%=%{y}<br>PC3 6.75%=%{z}<extra></extra>",
                  "legendgroup": "Luminal",
                  "marker": {
                    "color": "#00cc96",
                    "symbol": "circle"
                  },
                  "mode": "markers",
                  "name": "Luminal",
                  "scene": "scene",
                  "showlegend": true,
                  "type": "scatter3d",
                  "x": [
                    -24.138373692833362,
                    -40.762289071951294,
                    -47.82354567478942,
                    -50.21441648373298,
                    -40.89294000013661,
                    -46.8960441146041,
                    -34.1376246516272,
                    -54.81146577152169,
                    -53.70465008849405,
                    -41.9957317055274,
                    -17.946044865449114,
                    -36.94007692570848,
                    -40.91409222858808,
                    -37.34817550137172,
                    -42.75143516212816,
                    -45.70913510977234,
                    -49.697184361638634,
                    -37.08810172148512,
                    -28.523135245337148,
                    -17.14206432495945,
                    -37.41980051550318,
                    -30.051616296544747,
                    -54.5550994227343,
                    -45.11649087670215,
                    -53.0615375830213,
                    -48.53356176190003,
                    -41.53819081986602
                  ],
                  "y": [
                    57.47815486327106,
                    -56.77012027712435,
                    63.869304870668344,
                    17.90975982211802,
                    43.27908137629798,
                    -46.70714976788231,
                    -54.72624572936657,
                    -51.76838869913199,
                    41.461677774655044,
                    25.392209651822355,
                    18.42814959967633,
                    -41.440601172189545,
                    32.663895203967726,
                    36.20982667695502,
                    34.017305435508135,
                    37.56116216725826,
                    -0.9827873232569431,
                    -21.080313176412048,
                    -36.717763427512764,
                    -8.34148873266868,
                    -6.086912084806215,
                    -17.93081206065598,
                    -42.002241105877076,
                    -49.07734599645762,
                    -19.04235960302647,
                    61.72781745229588,
                    16.30892540699101
                  ],
                  "z": [
                    44.67931770658938,
                    -6.43364695249484,
                    9.933943982096595,
                    -4.080309534518552,
                    -17.05854545151069,
                    -9.979418293251735,
                    -23.242446279150812,
                    -30.15698072158508,
                    0.7136398908333188,
                    -18.738035047426223,
                    4.001863764894558,
                    -31.26703142637939,
                    -16.149807943049623,
                    -15.840724482578489,
                    42.15898833117066,
                    23.81353744569648,
                    -11.86752607335975,
                    8.621974254874072,
                    23.968629999556505,
                    22.284159647528746,
                    0.1722334528792846,
                    -9.729368162671546,
                    -16.138525611811282,
                    4.590489786543983,
                    -3.073871732998324,
                    24.699612369449987,
                    -19.693201850986682
                  ]
                },
                {
                  "hovertemplate": "color=Claudin-low<br>PC1 18.08%=%{x}<br>PC2 12.62%=%{y}<br>PC3 6.75%=%{z}<extra></extra>",
                  "legendgroup": "Claudin-low",
                  "marker": {
                    "color": "#ab63fa",
                    "symbol": "circle"
                  },
                  "mode": "markers",
                  "name": "Claudin-low",
                  "scene": "scene",
                  "showlegend": true,
                  "type": "scatter3d",
                  "x": [
                    58.534665216832146,
                    53.744541520794655,
                    53.38239310968159,
                    64.84910576016898,
                    54.373925410446816,
                    47.09295233119446
                  ],
                  "y": [
                    39.372289476370185,
                    73.44760589938886,
                    65.86092210344063,
                    30.642978059245905,
                    23.404632431379383,
                    -24.407877812770593
                  ],
                  "z": [
                    -50.7423138050554,
                    -31.68924098873611,
                    -36.9838904160023,
                    -66.38484281429852,
                    -23.037176939722926,
                    -83.1729205095786
                  ]
                }
              ],
              "layout": {
                "height": 800,
                "legend": {
                  "title": {
                    "text": "color"
                  },
                  "tracegroupgap": 0
                },
                "scene": {
                  "domain": {
                    "x": [
                      0,
                      1
                    ],
                    "y": [
                      0,
                      1
                    ]
                  },
                  "xaxis": {
                    "title": {
                      "text": "PC1 18.08%"
                    }
                  },
                  "yaxis": {
                    "title": {
                      "text": "PC2 12.62%"
                    }
                  },
                  "zaxis": {
                    "title": {
                      "text": "PC3 6.75%"
                    }
                  }
                },
                "template": {
                  "data": {
                    "bar": [
                      {
                        "error_x": {
                          "color": "#2a3f5f"
                        },
                        "error_y": {
                          "color": "#2a3f5f"
                        },
                        "marker": {
                          "line": {
                            "color": "white",
                            "width": 0.5
                          },
                          "pattern": {
                            "fillmode": "overlay",
                            "size": 10,
                            "solidity": 0.2
                          }
                        },
                        "type": "bar"
                      }
                    ],
                    "barpolar": [
                      {
                        "marker": {
                          "line": {
                            "color": "white",
                            "width": 0.5
                          },
                          "pattern": {
                            "fillmode": "overlay",
                            "size": 10,
                            "solidity": 0.2
                          }
                        },
                        "type": "barpolar"
                      }
                    ],
                    "carpet": [
                      {
                        "aaxis": {
                          "endlinecolor": "#2a3f5f",
                          "gridcolor": "#C8D4E3",
                          "linecolor": "#C8D4E3",
                          "minorgridcolor": "#C8D4E3",
                          "startlinecolor": "#2a3f5f"
                        },
                        "baxis": {
                          "endlinecolor": "#2a3f5f",
                          "gridcolor": "#C8D4E3",
                          "linecolor": "#C8D4E3",
                          "minorgridcolor": "#C8D4E3",
                          "startlinecolor": "#2a3f5f"
                        },
                        "type": "carpet"
                      }
                    ],
                    "choropleth": [
                      {
                        "colorbar": {
                          "outlinewidth": 0,
                          "ticks": ""
                        },
                        "type": "choropleth"
                      }
                    ],
                    "contour": [
                      {
                        "colorbar": {
                          "outlinewidth": 0,
                          "ticks": ""
                        },
                        "colorscale": [
                          [
                            0,
                            "#0d0887"
                          ],
                          [
                            0.1111111111111111,
                            "#46039f"
                          ],
                          [
                            0.2222222222222222,
                            "#7201a8"
                          ],
                          [
                            0.3333333333333333,
                            "#9c179e"
                          ],
                          [
                            0.4444444444444444,
                            "#bd3786"
                          ],
                          [
                            0.5555555555555556,
                            "#d8576b"
                          ],
                          [
                            0.6666666666666666,
                            "#ed7953"
                          ],
                          [
                            0.7777777777777778,
                            "#fb9f3a"
                          ],
                          [
                            0.8888888888888888,
                            "#fdca26"
                          ],
                          [
                            1,
                            "#f0f921"
                          ]
                        ],
                        "type": "contour"
                      }
                    ],
                    "contourcarpet": [
                      {
                        "colorbar": {
                          "outlinewidth": 0,
                          "ticks": ""
                        },
                        "type": "contourcarpet"
                      }
                    ],
                    "heatmap": [
                      {
                        "colorbar": {
                          "outlinewidth": 0,
                          "ticks": ""
                        },
                        "colorscale": [
                          [
                            0,
                            "#0d0887"
                          ],
                          [
                            0.1111111111111111,
                            "#46039f"
                          ],
                          [
                            0.2222222222222222,
                            "#7201a8"
                          ],
                          [
                            0.3333333333333333,
                            "#9c179e"
                          ],
                          [
                            0.4444444444444444,
                            "#bd3786"
                          ],
                          [
                            0.5555555555555556,
                            "#d8576b"
                          ],
                          [
                            0.6666666666666666,
                            "#ed7953"
                          ],
                          [
                            0.7777777777777778,
                            "#fb9f3a"
                          ],
                          [
                            0.8888888888888888,
                            "#fdca26"
                          ],
                          [
                            1,
                            "#f0f921"
                          ]
                        ],
                        "type": "heatmap"
                      }
                    ],
                    "heatmapgl": [
                      {
                        "colorbar": {
                          "outlinewidth": 0,
                          "ticks": ""
                        },
                        "colorscale": [
                          [
                            0,
                            "#0d0887"
                          ],
                          [
                            0.1111111111111111,
                            "#46039f"
                          ],
                          [
                            0.2222222222222222,
                            "#7201a8"
                          ],
                          [
                            0.3333333333333333,
                            "#9c179e"
                          ],
                          [
                            0.4444444444444444,
                            "#bd3786"
                          ],
                          [
                            0.5555555555555556,
                            "#d8576b"
                          ],
                          [
                            0.6666666666666666,
                            "#ed7953"
                          ],
                          [
                            0.7777777777777778,
                            "#fb9f3a"
                          ],
                          [
                            0.8888888888888888,
                            "#fdca26"
                          ],
                          [
                            1,
                            "#f0f921"
                          ]
                        ],
                        "type": "heatmapgl"
                      }
                    ],
                    "histogram": [
                      {
                        "marker": {
                          "pattern": {
                            "fillmode": "overlay",
                            "size": 10,
                            "solidity": 0.2
                          }
                        },
                        "type": "histogram"
                      }
                    ],
                    "histogram2d": [
                      {
                        "colorbar": {
                          "outlinewidth": 0,
                          "ticks": ""
                        },
                        "colorscale": [
                          [
                            0,
                            "#0d0887"
                          ],
                          [
                            0.1111111111111111,
                            "#46039f"
                          ],
                          [
                            0.2222222222222222,
                            "#7201a8"
                          ],
                          [
                            0.3333333333333333,
                            "#9c179e"
                          ],
                          [
                            0.4444444444444444,
                            "#bd3786"
                          ],
                          [
                            0.5555555555555556,
                            "#d8576b"
                          ],
                          [
                            0.6666666666666666,
                            "#ed7953"
                          ],
                          [
                            0.7777777777777778,
                            "#fb9f3a"
                          ],
                          [
                            0.8888888888888888,
                            "#fdca26"
                          ],
                          [
                            1,
                            "#f0f921"
                          ]
                        ],
                        "type": "histogram2d"
                      }
                    ],
                    "histogram2dcontour": [
                      {
                        "colorbar": {
                          "outlinewidth": 0,
                          "ticks": ""
                        },
                        "colorscale": [
                          [
                            0,
                            "#0d0887"
                          ],
                          [
                            0.1111111111111111,
                            "#46039f"
                          ],
                          [
                            0.2222222222222222,
                            "#7201a8"
                          ],
                          [
                            0.3333333333333333,
                            "#9c179e"
                          ],
                          [
                            0.4444444444444444,
                            "#bd3786"
                          ],
                          [
                            0.5555555555555556,
                            "#d8576b"
                          ],
                          [
                            0.6666666666666666,
                            "#ed7953"
                          ],
                          [
                            0.7777777777777778,
                            "#fb9f3a"
                          ],
                          [
                            0.8888888888888888,
                            "#fdca26"
                          ],
                          [
                            1,
                            "#f0f921"
                          ]
                        ],
                        "type": "histogram2dcontour"
                      }
                    ],
                    "mesh3d": [
                      {
                        "colorbar": {
                          "outlinewidth": 0,
                          "ticks": ""
                        },
                        "type": "mesh3d"
                      }
                    ],
                    "parcoords": [
                      {
                        "line": {
                          "colorbar": {
                            "outlinewidth": 0,
                            "ticks": ""
                          }
                        },
                        "type": "parcoords"
                      }
                    ],
                    "pie": [
                      {
                        "automargin": true,
                        "type": "pie"
                      }
                    ],
                    "scatter": [
                      {
                        "fillpattern": {
                          "fillmode": "overlay",
                          "size": 10,
                          "solidity": 0.2
                        },
                        "type": "scatter"
                      }
                    ],
                    "scatter3d": [
                      {
                        "line": {
                          "colorbar": {
                            "outlinewidth": 0,
                            "ticks": ""
                          }
                        },
                        "marker": {
                          "colorbar": {
                            "outlinewidth": 0,
                            "ticks": ""
                          }
                        },
                        "type": "scatter3d"
                      }
                    ],
                    "scattercarpet": [
                      {
                        "marker": {
                          "colorbar": {
                            "outlinewidth": 0,
                            "ticks": ""
                          }
                        },
                        "type": "scattercarpet"
                      }
                    ],
                    "scattergeo": [
                      {
                        "marker": {
                          "colorbar": {
                            "outlinewidth": 0,
                            "ticks": ""
                          }
                        },
                        "type": "scattergeo"
                      }
                    ],
                    "scattergl": [
                      {
                        "marker": {
                          "colorbar": {
                            "outlinewidth": 0,
                            "ticks": ""
                          }
                        },
                        "type": "scattergl"
                      }
                    ],
                    "scattermapbox": [
                      {
                        "marker": {
                          "colorbar": {
                            "outlinewidth": 0,
                            "ticks": ""
                          }
                        },
                        "type": "scattermapbox"
                      }
                    ],
                    "scatterpolar": [
                      {
                        "marker": {
                          "colorbar": {
                            "outlinewidth": 0,
                            "ticks": ""
                          }
                        },
                        "type": "scatterpolar"
                      }
                    ],
                    "scatterpolargl": [
                      {
                        "marker": {
                          "colorbar": {
                            "outlinewidth": 0,
                            "ticks": ""
                          }
                        },
                        "type": "scatterpolargl"
                      }
                    ],
                    "scatterternary": [
                      {
                        "marker": {
                          "colorbar": {
                            "outlinewidth": 0,
                            "ticks": ""
                          }
                        },
                        "type": "scatterternary"
                      }
                    ],
                    "surface": [
                      {
                        "colorbar": {
                          "outlinewidth": 0,
                          "ticks": ""
                        },
                        "colorscale": [
                          [
                            0,
                            "#0d0887"
                          ],
                          [
                            0.1111111111111111,
                            "#46039f"
                          ],
                          [
                            0.2222222222222222,
                            "#7201a8"
                          ],
                          [
                            0.3333333333333333,
                            "#9c179e"
                          ],
                          [
                            0.4444444444444444,
                            "#bd3786"
                          ],
                          [
                            0.5555555555555556,
                            "#d8576b"
                          ],
                          [
                            0.6666666666666666,
                            "#ed7953"
                          ],
                          [
                            0.7777777777777778,
                            "#fb9f3a"
                          ],
                          [
                            0.8888888888888888,
                            "#fdca26"
                          ],
                          [
                            1,
                            "#f0f921"
                          ]
                        ],
                        "type": "surface"
                      }
                    ],
                    "table": [
                      {
                        "cells": {
                          "fill": {
                            "color": "#EBF0F8"
                          },
                          "line": {
                            "color": "white"
                          }
                        },
                        "header": {
                          "fill": {
                            "color": "#C8D4E3"
                          },
                          "line": {
                            "color": "white"
                          }
                        },
                        "type": "table"
                      }
                    ]
                  },
                  "layout": {
                    "annotationdefaults": {
                      "arrowcolor": "#2a3f5f",
                      "arrowhead": 0,
                      "arrowwidth": 1
                    },
                    "autotypenumbers": "strict",
                    "coloraxis": {
                      "colorbar": {
                        "outlinewidth": 0,
                        "ticks": ""
                      }
                    },
                    "colorscale": {
                      "diverging": [
                        [
                          0,
                          "#8e0152"
                        ],
                        [
                          0.1,
                          "#c51b7d"
                        ],
                        [
                          0.2,
                          "#de77ae"
                        ],
                        [
                          0.3,
                          "#f1b6da"
                        ],
                        [
                          0.4,
                          "#fde0ef"
                        ],
                        [
                          0.5,
                          "#f7f7f7"
                        ],
                        [
                          0.6,
                          "#e6f5d0"
                        ],
                        [
                          0.7,
                          "#b8e186"
                        ],
                        [
                          0.8,
                          "#7fbc41"
                        ],
                        [
                          0.9,
                          "#4d9221"
                        ],
                        [
                          1,
                          "#276419"
                        ]
                      ],
                      "sequential": [
                        [
                          0,
                          "#0d0887"
                        ],
                        [
                          0.1111111111111111,
                          "#46039f"
                        ],
                        [
                          0.2222222222222222,
                          "#7201a8"
                        ],
                        [
                          0.3333333333333333,
                          "#9c179e"
                        ],
                        [
                          0.4444444444444444,
                          "#bd3786"
                        ],
                        [
                          0.5555555555555556,
                          "#d8576b"
                        ],
                        [
                          0.6666666666666666,
                          "#ed7953"
                        ],
                        [
                          0.7777777777777778,
                          "#fb9f3a"
                        ],
                        [
                          0.8888888888888888,
                          "#fdca26"
                        ],
                        [
                          1,
                          "#f0f921"
                        ]
                      ],
                      "sequentialminus": [
                        [
                          0,
                          "#0d0887"
                        ],
                        [
                          0.1111111111111111,
                          "#46039f"
                        ],
                        [
                          0.2222222222222222,
                          "#7201a8"
                        ],
                        [
                          0.3333333333333333,
                          "#9c179e"
                        ],
                        [
                          0.4444444444444444,
                          "#bd3786"
                        ],
                        [
                          0.5555555555555556,
                          "#d8576b"
                        ],
                        [
                          0.6666666666666666,
                          "#ed7953"
                        ],
                        [
                          0.7777777777777778,
                          "#fb9f3a"
                        ],
                        [
                          0.8888888888888888,
                          "#fdca26"
                        ],
                        [
                          1,
                          "#f0f921"
                        ]
                      ]
                    },
                    "colorway": [
                      "#636efa",
                      "#EF553B",
                      "#00cc96",
                      "#ab63fa",
                      "#FFA15A",
                      "#19d3f3",
                      "#FF6692",
                      "#B6E880",
                      "#FF97FF",
                      "#FECB52"
                    ],
                    "font": {
                      "color": "#2a3f5f"
                    },
                    "geo": {
                      "bgcolor": "white",
                      "lakecolor": "white",
                      "landcolor": "white",
                      "showlakes": true,
                      "showland": true,
                      "subunitcolor": "#C8D4E3"
                    },
                    "hoverlabel": {
                      "align": "left"
                    },
                    "hovermode": "closest",
                    "mapbox": {
                      "style": "light"
                    },
                    "paper_bgcolor": "white",
                    "plot_bgcolor": "white",
                    "polar": {
                      "angularaxis": {
                        "gridcolor": "#EBF0F8",
                        "linecolor": "#EBF0F8",
                        "ticks": ""
                      },
                      "bgcolor": "white",
                      "radialaxis": {
                        "gridcolor": "#EBF0F8",
                        "linecolor": "#EBF0F8",
                        "ticks": ""
                      }
                    },
                    "scene": {
                      "xaxis": {
                        "backgroundcolor": "white",
                        "gridcolor": "#DFE8F3",
                        "gridwidth": 2,
                        "linecolor": "#EBF0F8",
                        "showbackground": true,
                        "ticks": "",
                        "zerolinecolor": "#EBF0F8"
                      },
                      "yaxis": {
                        "backgroundcolor": "white",
                        "gridcolor": "#DFE8F3",
                        "gridwidth": 2,
                        "linecolor": "#EBF0F8",
                        "showbackground": true,
                        "ticks": "",
                        "zerolinecolor": "#EBF0F8"
                      },
                      "zaxis": {
                        "backgroundcolor": "white",
                        "gridcolor": "#DFE8F3",
                        "gridwidth": 2,
                        "linecolor": "#EBF0F8",
                        "showbackground": true,
                        "ticks": "",
                        "zerolinecolor": "#EBF0F8"
                      }
                    },
                    "shapedefaults": {
                      "line": {
                        "color": "#2a3f5f"
                      }
                    },
                    "ternary": {
                      "aaxis": {
                        "gridcolor": "#DFE8F3",
                        "linecolor": "#A2B1C6",
                        "ticks": ""
                      },
                      "baxis": {
                        "gridcolor": "#DFE8F3",
                        "linecolor": "#A2B1C6",
                        "ticks": ""
                      },
                      "bgcolor": "white",
                      "caxis": {
                        "gridcolor": "#DFE8F3",
                        "linecolor": "#A2B1C6",
                        "ticks": ""
                      }
                    },
                    "title": {
                      "x": 0.05
                    },
                    "xaxis": {
                      "automargin": true,
                      "gridcolor": "#EBF0F8",
                      "linecolor": "#EBF0F8",
                      "ticks": "",
                      "title": {
                        "standoff": 15
                      },
                      "zerolinecolor": "#EBF0F8",
                      "zerolinewidth": 2
                    },
                    "yaxis": {
                      "automargin": true,
                      "gridcolor": "#EBF0F8",
                      "linecolor": "#EBF0F8",
                      "ticks": "",
                      "title": {
                        "standoff": 15
                      },
                      "zerolinecolor": "#EBF0F8",
                      "zerolinewidth": 2
                    }
                  }
                },
                "title": {
                  "text": "PCA 3D plot, colored by Class"
                },
                "width": 800
              }
            },
            "image/png": "[encoded data removed]",
            "text/html": [
              "<div>                            <div id=\"36f8055b-2abb-4c87-93a4-84705167499a\" class=\"plotly-graph-div\" style=\"height:800px; width:800px;\"></div>            <script type=\"text/javascript\">                require([\"plotly\"], function(Plotly) {                    window.PLOTLYENV=window.PLOTLYENV || {};                                    if (document.getElementById(\"36f8055b-2abb-4c87-93a4-84705167499a\")) {                    Plotly.newPlot(                        \"36f8055b-2abb-4c87-93a4-84705167499a\",                        [{\"hovertemplate\":\"color=Normal-like\\u003cbr\\u003ePC1 18.08%=%{x}\\u003cbr\\u003ePC2 12.62%=%{y}\\u003cbr\\u003ePC3 6.75%=%{z}\\u003cextra\\u003e\\u003c\\u002fextra\\u003e\",\"legendgroup\":\"Normal-like\",\"marker\":{\"color\":\"#636efa\",\"symbol\":\"circle\"},\"mode\":\"markers\",\"name\":\"Normal-like\",\"scene\":\"scene\",\"showlegend\":true,\"x\":[59.67593711777891,46.90640011080296,65.88101928821777,65.85132866802891,63.33427252450927],\"y\":[-8.464440194588164,-8.147381810491808,-2.894655947593776,-21.940351565720746,-39.26750546302539],\"z\":[24.42378109868313,50.638092634006334,29.724279097148745,34.43751389952843,17.316291407952438],\"type\":\"scatter3d\"},{\"hovertemplate\":\"color=Basal\\u003cbr\\u003ePC1 18.08%=%{x}\\u003cbr\\u003ePC2 12.62%=%{y}\\u003cbr\\u003ePC3 6.75%=%{z}\\u003cextra\\u003e\\u003c\\u002fextra\\u003e\",\"legendgroup\":\"Basal\",\"marker\":{\"color\":\"#EF553B\",\"symbol\":\"circle\"},\"mode\":\"markers\",\"name\":\"Basal\",\"scene\":\"scene\",\"showlegend\":true,\"x\":[34.59625981118136,34.29315195668823,35.0721925594261,41.70705560064368,21.360416082050854,50.10927871780775,36.56406129843313,17.776647963503322,32.94363911711593,17.63206161524633,34.82868227464697,30.25502615124894,40.5955823929239,38.3522273785546],\"y\":[-57.23915741389912,-48.18235217523541,-50.30104365192382,22.255474044660374,6.225353499664578,18.181274654756535,-2.9159144485678326,5.918025997215707,4.4786348933130995,6.082771664066385,36.72361624222924,-29.030522357993917,-25.938308909776723,-47.49680835928264],\"z\":[-0.3381189603454757,7.278913200882407,3.785866885892797,-1.9023791505825631,0.5780993605662879,10.383826230966186,17.09642495994754,38.89339389896539,18.757999487940545,42.782436934525585,18.203409260922758,-1.6406744975029177,-1.1783469090293544,6.580625564583795],\"type\":\"scatter3d\"},{\"hovertemplate\":\"color=Luminal\\u003cbr\\u003ePC1 18.08%=%{x}\\u003cbr\\u003ePC2 12.62%=%{y}\\u003cbr\\u003ePC3 6.75%=%{z}\\u003cextra\\u003e\\u003c\\u002fextra\\u003e\",\"legendgroup\":\"Luminal\",\"marker\":{\"color\":\"#00cc96\",\"symbol\":\"circle\"},\"mode\":\"markers\",\"name\":\"Luminal\",\"scene\":\"scene\",\"showlegend\":true,\"x\":[-24.138373692833362,-40.762289071951294,-47.82354567478942,-50.21441648373298,-40.89294000013661,-46.8960441146041,-34.1376246516272,-54.81146577152169,-53.70465008849405,-41.9957317055274,-17.946044865449114,-36.94007692570848,-40.91409222858808,-37.34817550137172,-42.75143516212816,-45.70913510977234,-49.697184361638634,-37.08810172148512,-28.523135245337148,-17.14206432495945,-37.41980051550318,-30.051616296544747,-54.5550994227343,-45.11649087670215,-53.0615375830213,-48.53356176190003,-41.53819081986602],\"y\":[57.47815486327106,-56.77012027712435,63.869304870668344,17.90975982211802,43.27908137629798,-46.70714976788231,-54.72624572936657,-51.76838869913199,41.461677774655044,25.392209651822355,18.42814959967633,-41.440601172189545,32.663895203967726,36.20982667695502,34.017305435508135,37.56116216725826,-0.9827873232569431,-21.080313176412048,-36.717763427512764,-8.34148873266868,-6.086912084806215,-17.93081206065598,-42.002241105877076,-49.07734599645762,-19.04235960302647,61.72781745229588,16.30892540699101],\"z\":[44.67931770658938,-6.43364695249484,9.933943982096595,-4.080309534518552,-17.05854545151069,-9.979418293251735,-23.242446279150812,-30.15698072158508,0.7136398908333188,-18.738035047426223,4.001863764894558,-31.26703142637939,-16.149807943049623,-15.840724482578489,42.15898833117066,23.81353744569648,-11.86752607335975,8.621974254874072,23.968629999556505,22.284159647528746,0.1722334528792846,-9.729368162671546,-16.138525611811282,4.590489786543983,-3.073871732998324,24.699612369449987,-19.693201850986682],\"type\":\"scatter3d\"},{\"hovertemplate\":\"color=Claudin-low\\u003cbr\\u003ePC1 18.08%=%{x}\\u003cbr\\u003ePC2 12.62%=%{y}\\u003cbr\\u003ePC3 6.75%=%{z}\\u003cextra\\u003e\\u003c\\u002fextra\\u003e\",\"legendgroup\":\"Claudin-low\",\"marker\":{\"color\":\"#ab63fa\",\"symbol\":\"circle\"},\"mode\":\"markers\",\"name\":\"Claudin-low\",\"scene\":\"scene\",\"showlegend\":true,\"x\":[58.534665216832146,53.744541520794655,53.38239310968159,64.84910576016898,54.373925410446816,47.09295233119446],\"y\":[39.372289476370185,73.44760589938886,65.86092210344063,30.642978059245905,23.404632431379383,-24.407877812770593],\"z\":[-50.7423138050554,-31.68924098873611,-36.9838904160023,-66.38484281429852,-23.037176939722926,-83.1729205095786],\"type\":\"scatter3d\"}],                        {\"template\":{\"data\":{\"barpolar\":[{\"marker\":{\"line\":{\"color\":\"white\",\"width\":0.5},\"pattern\":{\"fillmode\":\"overlay\",\"size\":10,\"solidity\":0.2}},\"type\":\"barpolar\"}],\"bar\":[{\"error_x\":{\"color\":\"#2a3f5f\"},\"error_y\":{\"color\":\"#2a3f5f\"},\"marker\":{\"line\":{\"color\":\"white\",\"width\":0.5},\"pattern\":{\"fillmode\":\"overlay\",\"size\":10,\"solidity\":0.2}},\"type\":\"bar\"}],\"carpet\":[{\"aaxis\":{\"endlinecolor\":\"#2a3f5f\",\"gridcolor\":\"#C8D4E3\",\"linecolor\":\"#C8D4E3\",\"minorgridcolor\":\"#C8D4E3\",\"startlinecolor\":\"#2a3f5f\"},\"baxis\":{\"endlinecolor\":\"#2a3f5f\",\"gridcolor\":\"#C8D4E3\",\"linecolor\":\"#C8D4E3\",\"minorgridcolor\":\"#C8D4E3\",\"startlinecolor\":\"#2a3f5f\"},\"type\":\"carpet\"}],\"choropleth\":[{\"colorbar\":{\"outlinewidth\":0,\"ticks\":\"\"},\"type\":\"choropleth\"}],\"contourcarpet\":[{\"colorbar\":{\"outlinewidth\":0,\"ticks\":\"\"},\"type\":\"contourcarpet\"}],\"contour\":[{\"colorbar\":{\"outlinewidth\":0,\"ticks\":\"\"},\"colorscale\":[[0.0,\"#0d0887\"],[0.1111111111111111,\"#46039f\"],[0.2222222222222222,\"#7201a8\"],[0.3333333333333333,\"#9c179e\"],[0.4444444444444444,\"#bd3786\"],[0.5555555555555556,\"#d8576b\"],[0.6666666666666666,\"#ed7953\"],[0.7777777777777778,\"#fb9f3a\"],[0.8888888888888888,\"#fdca26\"],[1.0,\"#f0f921\"]],\"type\":\"contour\"}],\"heatmapgl\":[{\"colorbar\":{\"outlinewidth\":0,\"ticks\":\"\"},\"colorscale\":[[0.0,\"#0d0887\"],[0.1111111111111111,\"#46039f\"],[0.2222222222222222,\"#7201a8\"],[0.3333333333333333,\"#9c179e\"],[0.4444444444444444,\"#bd3786\"],[0.5555555555555556,\"#d8576b\"],[0.6666666666666666,\"#ed7953\"],[0.7777777777777778,\"#fb9f3a\"],[0.8888888888888888,\"#fdca26\"],[1.0,\"#f0f921\"]],\"type\":\"heatmapgl\"}],\"heatmap\":[{\"colorbar\":{\"outlinewidth\":0,\"ticks\":\"\"},\"colorscale\":[[0.0,\"#0d0887\"],[0.1111111111111111,\"#46039f\"],[0.2222222222222222,\"#7201a8\"],[0.3333333333333333,\"#9c179e\"],[0.4444444444444444,\"#bd3786\"],[0.5555555555555556,\"#d8576b\"],[0.6666666666666666,\"#ed7953\"],[0.7777777777777778,\"#fb9f3a\"],[0.8888888888888888,\"#fdca26\"],[1.0,\"#f0f921\"]],\"type\":\"heatmap\"}],\"histogram2dcontour\":[{\"colorbar\":{\"outlinewidth\":0,\"ticks\":\"\"},\"colorscale\":[[0.0,\"#0d0887\"],[0.1111111111111111,\"#46039f\"],[0.2222222222222222,\"#7201a8\"],[0.3333333333333333,\"#9c179e\"],[0.4444444444444444,\"#bd3786\"],[0.5555555555555556,\"#d8576b\"],[0.6666666666666666,\"#ed7953\"],[0.7777777777777778,\"#fb9f3a\"],[0.8888888888888888,\"#fdca26\"],[1.0,\"#f0f921\"]],\"type\":\"histogram2dcontour\"}],\"histogram2d\":[{\"colorbar\":{\"outlinewidth\":0,\"ticks\":\"\"},\"colorscale\":[[0.0,\"#0d0887\"],[0.1111111111111111,\"#46039f\"],[0.2222222222222222,\"#7201a8\"],[0.3333333333333333,\"#9c179e\"],[0.4444444444444444,\"#bd3786\"],[0.5555555555555556,\"#d8576b\"],[0.6666666666666666,\"#ed7953\"],[0.7777777777777778,\"#fb9f3a\"],[0.8888888888888888,\"#fdca26\"],[1.0,\"#f0f921\"]],\"type\":\"histogram2d\"}],\"histogram\":[{\"marker\":{\"pattern\":{\"fillmode\":\"overlay\",\"size\":10,\"solidity\":0.2}},\"type\":\"histogram\"}],\"mesh3d\":[{\"colorbar\":{\"outlinewidth\":0,\"ticks\":\"\"},\"type\":\"mesh3d\"}],\"parcoords\":[{\"line\":{\"colorbar\":{\"outlinewidth\":0,\"ticks\":\"\"}},\"type\":\"parcoords\"}],\"pie\":[{\"automargin\":true,\"type\":\"pie\"}],\"scatter3d\":[{\"line\":{\"colorbar\":{\"outlinewidth\":0,\"ticks\":\"\"}},\"marker\":{\"colorbar\":{\"outlinewidth\":0,\"ticks\":\"\"}},\"type\":\"scatter3d\"}],\"scattercarpet\":[{\"marker\":{\"colorbar\":{\"outlinewidth\":0,\"ticks\":\"\"}},\"type\":\"scattercarpet\"}],\"scattergeo\":[{\"marker\":{\"colorbar\":{\"outlinewidth\":0,\"ticks\":\"\"}},\"type\":\"scattergeo\"}],\"scattergl\":[{\"marker\":{\"colorbar\":{\"outlinewidth\":0,\"ticks\":\"\"}},\"type\":\"scattergl\"}],\"scattermapbox\":[{\"marker\":{\"colorbar\":{\"outlinewidth\":0,\"ticks\":\"\"}},\"type\":\"scattermapbox\"}],\"scatterpolargl\":[{\"marker\":{\"colorbar\":{\"outlinewidth\":0,\"ticks\":\"\"}},\"type\":\"scatterpolargl\"}],\"scatterpolar\":[{\"marker\":{\"colorbar\":{\"outlinewidth\":0,\"ticks\":\"\"}},\"type\":\"scatterpolar\"}],\"scatter\":[{\"fillpattern\":{\"fillmode\":\"overlay\",\"size\":10,\"solidity\":0.2},\"type\":\"scatter\"}],\"scatterternary\":[{\"marker\":{\"colorbar\":{\"outlinewidth\":0,\"ticks\":\"\"}},\"type\":\"scatterternary\"}],\"surface\":[{\"colorbar\":{\"outlinewidth\":0,\"ticks\":\"\"},\"colorscale\":[[0.0,\"#0d0887\"],[0.1111111111111111,\"#46039f\"],[0.2222222222222222,\"#7201a8\"],[0.3333333333333333,\"#9c179e\"],[0.4444444444444444,\"#bd3786\"],[0.5555555555555556,\"#d8576b\"],[0.6666666666666666,\"#ed7953\"],[0.7777777777777778,\"#fb9f3a\"],[0.8888888888888888,\"#fdca26\"],[1.0,\"#f0f921\"]],\"type\":\"surface\"}],\"table\":[{\"cells\":{\"fill\":{\"color\":\"#EBF0F8\"},\"line\":{\"color\":\"white\"}},\"header\":{\"fill\":{\"color\":\"#C8D4E3\"},\"line\":{\"color\":\"white\"}},\"type\":\"table\"}]},\"layout\":{\"annotationdefaults\":{\"arrowcolor\":\"#2a3f5f\",\"arrowhead\":0,\"arrowwidth\":1},\"autotypenumbers\":\"strict\",\"coloraxis\":{\"colorbar\":{\"outlinewidth\":0,\"ticks\":\"\"}},\"colorscale\":{\"diverging\":[[0,\"#8e0152\"],[0.1,\"#c51b7d\"],[0.2,\"#de77ae\"],[0.3,\"#f1b6da\"],[0.4,\"#fde0ef\"],[0.5,\"#f7f7f7\"],[0.6,\"#e6f5d0\"],[0.7,\"#b8e186\"],[0.8,\"#7fbc41\"],[0.9,\"#4d9221\"],[1,\"#276419\"]],\"sequential\":[[0.0,\"#0d0887\"],[0.1111111111111111,\"#46039f\"],[0.2222222222222222,\"#7201a8\"],[0.3333333333333333,\"#9c179e\"],[0.4444444444444444,\"#bd3786\"],[0.5555555555555556,\"#d8576b\"],[0.6666666666666666,\"#ed7953\"],[0.7777777777777778,\"#fb9f3a\"],[0.8888888888888888,\"#fdca26\"],[1.0,\"#f0f921\"]],\"sequentialminus\":[[0.0,\"#0d0887\"],[0.1111111111111111,\"#46039f\"],[0.2222222222222222,\"#7201a8\"],[0.3333333333333333,\"#9c179e\"],[0.4444444444444444,\"#bd3786\"],[0.5555555555555556,\"#d8576b\"],[0.6666666666666666,\"#ed7953\"],[0.7777777777777778,\"#fb9f3a\"],[0.8888888888888888,\"#fdca26\"],[1.0,\"#f0f921\"]]},\"colorway\":[\"#636efa\",\"#EF553B\",\"#00cc96\",\"#ab63fa\",\"#FFA15A\",\"#19d3f3\",\"#FF6692\",\"#B6E880\",\"#FF97FF\",\"#FECB52\"],\"font\":{\"color\":\"#2a3f5f\"},\"geo\":{\"bgcolor\":\"white\",\"lakecolor\":\"white\",\"landcolor\":\"white\",\"showlakes\":true,\"showland\":true,\"subunitcolor\":\"#C8D4E3\"},\"hoverlabel\":{\"align\":\"left\"},\"hovermode\":\"closest\",\"mapbox\":{\"style\":\"light\"},\"paper_bgcolor\":\"white\",\"plot_bgcolor\":\"white\",\"polar\":{\"angularaxis\":{\"gridcolor\":\"#EBF0F8\",\"linecolor\":\"#EBF0F8\",\"ticks\":\"\"},\"bgcolor\":\"white\",\"radialaxis\":{\"gridcolor\":\"#EBF0F8\",\"linecolor\":\"#EBF0F8\",\"ticks\":\"\"}},\"scene\":{\"xaxis\":{\"backgroundcolor\":\"white\",\"gridcolor\":\"#DFE8F3\",\"gridwidth\":2,\"linecolor\":\"#EBF0F8\",\"showbackground\":true,\"ticks\":\"\",\"zerolinecolor\":\"#EBF0F8\"},\"yaxis\":{\"backgroundcolor\":\"white\",\"gridcolor\":\"#DFE8F3\",\"gridwidth\":2,\"linecolor\":\"#EBF0F8\",\"showbackground\":true,\"ticks\":\"\",\"zerolinecolor\":\"#EBF0F8\"},\"zaxis\":{\"backgroundcolor\":\"white\",\"gridcolor\":\"#DFE8F3\",\"gridwidth\":2,\"linecolor\":\"#EBF0F8\",\"showbackground\":true,\"ticks\":\"\",\"zerolinecolor\":\"#EBF0F8\"}},\"shapedefaults\":{\"line\":{\"color\":\"#2a3f5f\"}},\"ternary\":{\"aaxis\":{\"gridcolor\":\"#DFE8F3\",\"linecolor\":\"#A2B1C6\",\"ticks\":\"\"},\"baxis\":{\"gridcolor\":\"#DFE8F3\",\"linecolor\":\"#A2B1C6\",\"ticks\":\"\"},\"bgcolor\":\"white\",\"caxis\":{\"gridcolor\":\"#DFE8F3\",\"linecolor\":\"#A2B1C6\",\"ticks\":\"\"}},\"title\":{\"x\":0.05},\"xaxis\":{\"automargin\":true,\"gridcolor\":\"#EBF0F8\",\"linecolor\":\"#EBF0F8\",\"ticks\":\"\",\"title\":{\"standoff\":15},\"zerolinecolor\":\"#EBF0F8\",\"zerolinewidth\":2},\"yaxis\":{\"automargin\":true,\"gridcolor\":\"#EBF0F8\",\"linecolor\":\"#EBF0F8\",\"ticks\":\"\",\"title\":{\"standoff\":15},\"zerolinecolor\":\"#EBF0F8\",\"zerolinewidth\":2}}},\"scene\":{\"domain\":{\"x\":[0.0,1.0],\"y\":[0.0,1.0]},\"xaxis\":{\"title\":{\"text\":\"PC1 18.08%\"}},\"yaxis\":{\"title\":{\"text\":\"PC2 12.62%\"}},\"zaxis\":{\"title\":{\"text\":\"PC3 6.75%\"}}},\"legend\":{\"title\":{\"text\":\"color\"},\"tracegroupgap\":0},\"title\":{\"text\":\"PCA 3D plot, colored by Class\"},\"height\":800,\"width\":800},                        {\"responsive\": true}                    ).then(function(){\n",
              "                            \n",
              "var gd = document.getElementById('36f8055b-2abb-4c87-93a4-84705167499a');\n",
              "var x = new MutationObserver(function (mutations, observer) {{\n",
              "        var display = window.getComputedStyle(gd).display;\n",
              "        if (!display || display === 'none') {{\n",
              "            console.log([gd, 'removed!']);\n",
              "            Plotly.purge(gd);\n",
              "            observer.disconnect();\n",
              "        }}\n",
              "}});\n",
              "\n",
              "// Listen for the removal of the full notebook cells\n",
              "var notebookContainer = gd.closest('#notebook-container');\n",
              "if (notebookContainer) {{\n",
              "    x.observe(notebookContainer, {childList: true});\n",
              "}}\n",
              "\n",
              "// Listen for the clearing of the current output cell\n",
              "var outputEl = gd.closest('.output');\n",
              "if (outputEl) {{\n",
              "    x.observe(outputEl, {childList: true});\n",
              "}}\n",
              "\n",
              "                        })                };                });            </script>        </div>"
            ]
          },
          "metadata": {},
          "output_type": "display_data"
        }
      ],
      "source": [
        "#Run Principal Component Analysis\n",
        "pca = PCA(n_components=3)\n",
        "\n",
        "pca.fit(dataT)\n",
        "xpca = pca.transform(dataT)\n",
        "\n",
        "PC1_label = \"PC1 {}%\".format(round((100*pca.explained_variance_ratio_[0]),2))\n",
        "PC2_label = \"PC2 {}%\".format(round((100*pca.explained_variance_ratio_[1]),2))\n",
        "PC3_label = \"PC3 {}%\".format(round((100*pca.explained_variance_ratio_[2]),2))\n",
        "\n",
        "#create dataframe for PCA\n",
        "df_pca = pd.DataFrame(xpca)\n",
        "df_pca.columns = [PC1_label,PC2_label,PC3_label]\n",
        "\n",
        "#visualize\n",
        "figPCA = px.scatter_3d(df_pca, x=PC1_label, y=PC2_label, z=PC3_label,\n",
        "                       title=\"PCA 3D plot, colored by Class\", color=cat,\n",
        "                       template=\"plotly_white\", height=800, width=800)\n",
        "figPCA.show()"
      ]
    },
    {
      "cell_type": "code",
      "execution_count": null,
      "metadata": {
        "colab": {
          "base_uri": "https://localhost:8080/",
          "height": 817
        },
        "id": "4KDJyEbkzV1Y",
        "outputId": "bd9ea9d7-0103-472f-8570-6f25b37b8e92"
      },
      "outputs": [
        {
          "ename": "ValueError",
          "evalue": "\nImage export using the \"kaleido\" engine requires the kaleido package,\nwhich can be installed using pip:\n    $ pip install -U kaleido\n",
          "output_type": "error",
          "traceback": [
            "\u001b[0;31m---------------------------------------------------------------------------\u001b[0m",
            "\u001b[0;31mValueError\u001b[0m                                Traceback (most recent call last)",
            "Cell \u001b[0;32mIn[93], line 3\u001b[0m\n\u001b[1;32m      1\u001b[0m \u001b[38;5;28;01mfrom\u001b[39;00m \u001b[38;5;21;01mIPython\u001b[39;00m\u001b[38;5;21;01m.\u001b[39;00m\u001b[38;5;21;01mdisplay\u001b[39;00m \u001b[38;5;28;01mimport\u001b[39;00m Image\n\u001b[0;32m----> 3\u001b[0m img_bytes \u001b[38;5;241m=\u001b[39m figPCA\u001b[38;5;241m.\u001b[39mto_image(\u001b[38;5;28mformat\u001b[39m\u001b[38;5;241m=\u001b[39m\u001b[38;5;124m\"\u001b[39m\u001b[38;5;124mpng\u001b[39m\u001b[38;5;124m\"\u001b[39m, width\u001b[38;5;241m=\u001b[39m\u001b[38;5;241m800\u001b[39m, height\u001b[38;5;241m=\u001b[39m\u001b[38;5;241m800\u001b[39m, scale\u001b[38;5;241m=\u001b[39m\u001b[38;5;241m1\u001b[39m)\n\u001b[1;32m      4\u001b[0m Image(img_bytes)\n",
            "File \u001b[0;32m/opt/anaconda3/lib/python3.12/site-packages/plotly/basedatatypes.py:3772\u001b[0m, in \u001b[0;36mBaseFigure.to_image\u001b[0;34m(self, *args, **kwargs)\u001b[0m\n\u001b[1;32m   3717\u001b[0m \u001b[38;5;250m\u001b[39m\u001b[38;5;124;03m\"\"\"\u001b[39;00m\n\u001b[1;32m   3718\u001b[0m \u001b[38;5;124;03mConvert a figure to a static image bytes string\u001b[39;00m\n\u001b[1;32m   3719\u001b[0m \n\u001b[0;32m   (...)\u001b[0m\n\u001b[1;32m   3768\u001b[0m \u001b[38;5;124;03m    The image data\u001b[39;00m\n\u001b[1;32m   3769\u001b[0m \u001b[38;5;124;03m\"\"\"\u001b[39;00m\n\u001b[1;32m   3770\u001b[0m \u001b[38;5;28;01mimport\u001b[39;00m \u001b[38;5;21;01mplotly\u001b[39;00m\u001b[38;5;21;01m.\u001b[39;00m\u001b[38;5;21;01mio\u001b[39;00m \u001b[38;5;28;01mas\u001b[39;00m \u001b[38;5;21;01mpio\u001b[39;00m\n\u001b[0;32m-> 3772\u001b[0m \u001b[38;5;28;01mreturn\u001b[39;00m pio\u001b[38;5;241m.\u001b[39mto_image(\u001b[38;5;28mself\u001b[39m, \u001b[38;5;241m*\u001b[39margs, \u001b[38;5;241m*\u001b[39m\u001b[38;5;241m*\u001b[39mkwargs)\n",
            "File \u001b[0;32m/opt/anaconda3/lib/python3.12/site-packages/plotly/io/_kaleido.py:132\u001b[0m, in \u001b[0;36mto_image\u001b[0;34m(fig, format, width, height, scale, validate, engine)\u001b[0m\n\u001b[1;32m    130\u001b[0m     \u001b[38;5;66;03m# Raise informative error message if Kaleido is not installed\u001b[39;00m\n\u001b[1;32m    131\u001b[0m     \u001b[38;5;28;01mif\u001b[39;00m scope \u001b[38;5;129;01mis\u001b[39;00m \u001b[38;5;28;01mNone\u001b[39;00m:\n\u001b[0;32m--> 132\u001b[0m         \u001b[38;5;28;01mraise\u001b[39;00m \u001b[38;5;167;01mValueError\u001b[39;00m(\n\u001b[1;32m    133\u001b[0m \u001b[38;5;250m            \u001b[39m\u001b[38;5;124;03m\"\"\"\u001b[39;00m\n\u001b[1;32m    134\u001b[0m \u001b[38;5;124;03mImage export using the \"kaleido\" engine requires the kaleido package,\u001b[39;00m\n\u001b[1;32m    135\u001b[0m \u001b[38;5;124;03mwhich can be installed using pip:\u001b[39;00m\n\u001b[1;32m    136\u001b[0m \u001b[38;5;124;03m    $ pip install -U kaleido\u001b[39;00m\n\u001b[1;32m    137\u001b[0m \u001b[38;5;124;03m\"\"\"\u001b[39;00m\n\u001b[1;32m    138\u001b[0m         )\n\u001b[1;32m    140\u001b[0m     \u001b[38;5;66;03m# Validate figure\u001b[39;00m\n\u001b[1;32m    141\u001b[0m     \u001b[38;5;66;03m# ---------------\u001b[39;00m\n\u001b[1;32m    142\u001b[0m     fig_dict \u001b[38;5;241m=\u001b[39m validate_coerce_fig_to_dict(fig, validate)\n",
            "\u001b[0;31mValueError\u001b[0m: \nImage export using the \"kaleido\" engine requires the kaleido package,\nwhich can be installed using pip:\n    $ pip install -U kaleido\n"
          ]
        }
      ],
      "source": [
        "from IPython.display import Image\n",
        "\n",
        "img_bytes = figPCA.to_image(format=\"png\", width=800, height=800, scale=1)\n",
        "Image(img_bytes)"
      ]
    },
    {
      "cell_type": "markdown",
      "metadata": {
        "id": "3_rKAZYGidTE"
      },
      "source": [
        "# Random Forest"
      ]
    },
    {
      "cell_type": "code",
      "execution_count": null,
      "metadata": {
        "colab": {
          "base_uri": "https://localhost:8080/"
        },
        "id": "dZ0ueY3P8ypi",
        "outputId": "5b81ba58-2196-44b3-9a02-0ba4fc9e63b6"
      },
      "outputs": [
        {
          "name": "stdout",
          "output_type": "stream",
          "text": [
            "Model accuracy =  0.8571428571428571\n"
          ]
        }
      ],
      "source": [
        "#define Random forest model\n",
        "model = RandomForestClassifier(n_estimators = 100,\n",
        "                               max_depth = 500,\n",
        "                               verbose=False,\n",
        "                               random_state=0)\n",
        "\n",
        "#fit model on training data\n",
        "model.fit(X_train, y_train)\n",
        "\n",
        "#Predict test data\n",
        "predictions = model.predict(X_test)\n",
        "print(\"Model accuracy = \", accuracy_score(y_test, predictions))"
      ]
    },
    {
      "cell_type": "code",
      "execution_count": null,
      "metadata": {
        "colab": {
          "base_uri": "https://localhost:8080/"
        },
        "id": "_zrpiYOeiDsm",
        "outputId": "ed347a76-a7d1-47dd-d10c-343d09190fa7"
      },
      "outputs": [
        {
          "name": "stdout",
          "output_type": "stream",
          "text": [
            "Model accuracy =  1.0\n"
          ]
        }
      ],
      "source": [
        "#define Random forest model\n",
        "model = RandomForestClassifier(n_estimators = 1000,\n",
        "                               max_depth = 5000,\n",
        "                               bootstrap=True,\n",
        "                               verbose=False,\n",
        "                               random_state=0)\n",
        "\n",
        "#fit model on training data\n",
        "model.fit(X_train, y_train)\n",
        "\n",
        "#Predict test data\n",
        "predictions = model.predict(X_test)\n",
        "print(\"Model accuracy = \", accuracy_score(y_test, predictions))"
      ]
    },
    {
      "cell_type": "markdown",
      "metadata": {
        "id": "6WJCmHqGlLMg"
      },
      "source": [
        "## Confusion Matrix"
      ]
    },
    {
      "cell_type": "code",
      "execution_count": null,
      "metadata": {
        "colab": {
          "base_uri": "https://localhost:8080/",
          "height": 592
        },
        "id": "XuyFGwJeiJjk",
        "outputId": "fbca54ce-1f47-4367-b4cc-7e1f4e918d8c"
      },
      "outputs": [
        {
          "data": {
            "image/png": "[encoded data removed]",
            "text/plain": [
              "<Figure size 1300x1000 with 2 Axes>"
            ]
          },
          "metadata": {},
          "output_type": "display_data"
        }
      ],
      "source": [
        "#prepare a confusion matrix\n",
        "conf = confusion_matrix(y_test,predictions)\n",
        "new_conf = pd.DataFrame(conf, columns=classes, index=classes)\n",
        "\n",
        "#plot heatmap of confusion matrix\n",
        "fig, ax = plt.subplots(figsize=(13, 10))\n",
        "sns.heatmap(new_conf, annot=True);"
      ]
    },
    {
      "cell_type": "markdown",
      "metadata": {
        "id": "pKZn0EpcqBw_"
      },
      "source": [
        "##Feature Importance"
      ]
    },
    {
      "cell_type": "code",
      "execution_count": null,
      "metadata": {
        "colab": {
          "base_uri": "https://localhost:8080/",
          "height": 549
        },
        "id": "snqQvY2oqGpD",
        "outputId": "f133aa83-eed8-4f50-97cd-71e8ae1f34f6"
      },
      "outputs": [
        {
          "name": "stdout",
          "output_type": "stream",
          "text": [
            "total number of selected features:  57\n"
          ]
        },
        {
          "data": {
            "image/png": "[encoded data removed]",
            "text/plain": [
              "<Figure size 1500x700 with 1 Axes>"
            ]
          },
          "metadata": {},
          "output_type": "display_data"
        }
      ],
      "source": [
        "#prepare the list of significant features\n",
        "importances = model.feature_importances_\n",
        "std = np.std([tree.feature_importances_ for tree in model.estimators_], axis=0)\n",
        "\n",
        "#select top features and save them\n",
        "forest_importances = pd.Series(importances, index=features)\n",
        "forest_importances = forest_importances[forest_importances > 0.0025]\n",
        "forest_importances = forest_importances.sort_values()\n",
        "\n",
        "#plot forest_importances\n",
        "forest_importances.plot.bar(figsize=(15, 7), title=\"top features by RF gini\");\n",
        "\n",
        "#print\n",
        "print(\"total number of selected features: \", len(forest_importances))"
      ]
    },
    {
      "cell_type": "markdown",
      "metadata": {
        "id": "4T7Qg4OqlOhC"
      },
      "source": [
        "# PCA\n"
      ]
    },
    {
      "cell_type": "code",
      "execution_count": null,
      "metadata": {
        "colab": {
          "base_uri": "https://localhost:8080/",
          "height": 634
        },
        "id": "iSrBUqInlv0k",
        "outputId": "ce8627c4-a2c6-4172-c53f-c8a3014a9cdd"
      },
      "outputs": [
        {
          "name": "stdout",
          "output_type": "stream",
          "text": [
            "new dimensions of select features:  (52, 57)\n"
          ]
        },
        {
          "data": {
            "application/vnd.plotly.v1+json": {
              "config": {
                "plotlyServerURL": "https://plot.ly"
              },
              "data": [
                {
                  "hovertemplate": "color=Normal-like<br>PC1 67.13%=%{x}<br>PC2 5.07%=%{y}<br>PC3 3.11%=%{z}<extra></extra>",
                  "legendgroup": "Normal-like",
                  "marker": {
                    "color": "#636efa",
                    "symbol": "circle"
                  },
                  "mode": "markers",
                  "name": "Normal-like",
                  "scene": "scene",
                  "showlegend": true,
                  "type": "scatter3d",
                  "x": [
                    14.985113280210987,
                    13.465675406435906,
                    19.017071584739,
                    20.259722923347688,
                    20.118178790415282
                  ],
                  "y": [
                    1.3829963750697214,
                    6.884973400952072,
                    2.7809449503486423,
                    4.310035447892956,
                    3.7037806893279903
                  ],
                  "z": [
                    3.556199062282407,
                    3.6680135685629853,
                    1.645157936473217,
                    -0.9153043272818473,
                    -0.2032709540190729
                  ]
                },
                {
                  "hovertemplate": "color=Basal<br>PC1 67.13%=%{x}<br>PC2 5.07%=%{y}<br>PC3 3.11%=%{z}<extra></extra>",
                  "legendgroup": "Basal",
                  "marker": {
                    "color": "#EF553B",
                    "symbol": "circle"
                  },
                  "mode": "markers",
                  "name": "Basal",
                  "scene": "scene",
                  "showlegend": true,
                  "type": "scatter3d",
                  "x": [
                    11.630786255618466,
                    12.22998118259606,
                    12.931415319834564,
                    16.87451502557156,
                    9.886520943248518,
                    15.422141147261216,
                    13.611755679942238,
                    6.824084184515386,
                    11.99066906660048,
                    10.72846077670231,
                    9.814355645110938,
                    14.710693849469743,
                    14.50932628245173,
                    14.748178616352346
                  ],
                  "y": [
                    0.9639910769803972,
                    1.7686045018368919,
                    2.118849447654579,
                    0.2304382295120515,
                    1.4391242552422803,
                    0.985272464726469,
                    5.434365899602463,
                    4.913481397139892,
                    0.40697849998178093,
                    4.858207810641256,
                    -3.0869990962456217,
                    2.6891734403417473,
                    5.737340844979277,
                    3.4779417542640463
                  ],
                  "z": [
                    -4.142282223680839,
                    -3.2282837593875806,
                    -3.631804684040544,
                    -0.22956807963200587,
                    -0.6542414309440754,
                    2.746387424388942,
                    0.36832113450303794,
                    -2.307600000081729,
                    0.8014307296870045,
                    -1.1910940451466456,
                    2.449440419830997,
                    -2.1951651327749238,
                    -0.7092546167007594,
                    -0.9291383362922274
                  ]
                },
                {
                  "hovertemplate": "color=Luminal<br>PC1 67.13%=%{x}<br>PC2 5.07%=%{y}<br>PC3 3.11%=%{z}<extra></extra>",
                  "legendgroup": "Luminal",
                  "marker": {
                    "color": "#00cc96",
                    "symbol": "circle"
                  },
                  "mode": "markers",
                  "name": "Luminal",
                  "scene": "scene",
                  "showlegend": true,
                  "type": "scatter3d",
                  "x": [
                    -11.539720428022099,
                    -11.79417965740742,
                    -16.256398617859954,
                    -14.620790942440346,
                    -15.121633875709515,
                    -15.2862732001594,
                    -10.257176287161338,
                    -17.035919342274592,
                    -19.758148445911154,
                    -11.860679941253577,
                    -5.669539307081682,
                    -11.546532679248203,
                    -15.148068190790989,
                    -11.40861247397622,
                    -14.708479952175999,
                    -15.369183343053509,
                    -16.51783772565243,
                    -11.937844412483416,
                    -9.364338019798247,
                    -8.278663924536454,
                    -12.005956315577274,
                    -9.721651840388208,
                    -16.568564764283337,
                    -12.460689543514688,
                    -15.820844689629718,
                    -17.710630990102885,
                    -14.233425562204248
                  ],
                  "y": [
                    1.686002416321907,
                    2.5000709274740878,
                    -2.1878761967915015,
                    -0.8857852007875557,
                    -3.091830151173438,
                    0.5846508384670681,
                    0.5259695057922578,
                    0.6127198513858048,
                    -2.5806241351377412,
                    -2.468161182114633,
                    1.5450250586854306,
                    -0.8416093735549115,
                    -2.2764925430926493,
                    -4.0638459926600365,
                    -1.1523632505816899,
                    -1.1018623788945874,
                    0.9769557552512804,
                    2.417235859900842,
                    5.801915258666115,
                    -0.06589829613954379,
                    -0.00020814926168810644,
                    1.109314558997454,
                    -0.5800118660120273,
                    3.4986915855041953,
                    0.779071703689679,
                    -0.36736569787249707,
                    -1.4067479860719292
                  ],
                  "z": [
                    6.752515506969922,
                    -2.5787958013213954,
                    3.5875200894651575,
                    -2.091855041320361,
                    -3.0028851279493134,
                    -2.082537763160194,
                    -3.345505957110893,
                    -3.875804863530016,
                    -0.3147949826144094,
                    -2.445763800633123,
                    1.6607324007687307,
                    -5.085239749556879,
                    -3.631435527902024,
                    -2.819790855378976,
                    4.739574274843654,
                    5.955983202668941,
                    0.45943467719309083,
                    -2.5036114496704123,
                    3.1916854155125143,
                    5.1128599572416915,
                    -1.0687655799790474,
                    -2.632225834392572,
                    -2.0678883916203663,
                    2.51439687734521,
                    0.45150169380956484,
                    9.380645719358292,
                    -3.1438529397803574
                  ]
                },
                {
                  "hovertemplate": "color=Claudin-low<br>PC1 67.13%=%{x}<br>PC2 5.07%=%{y}<br>PC3 3.11%=%{z}<extra></extra>",
                  "legendgroup": "Claudin-low",
                  "marker": {
                    "color": "#ab63fa",
                    "symbol": "circle"
                  },
                  "mode": "markers",
                  "name": "Claudin-low",
                  "scene": "scene",
                  "showlegend": true,
                  "type": "scatter3d",
                  "x": [
                    18.037467702080747,
                    16.01851403775375,
                    17.088355764661042,
                    17.247500488228944,
                    13.132612286722647,
                    16.718688232825365
                  ],
                  "y": [
                    -7.4288712483957955,
                    -6.940678259601535,
                    -5.450838590725083,
                    -11.023369654461433,
                    -8.359416292205477,
                    -10.763268264849081
                  ],
                  "z": [
                    0.5125966215877931,
                    2.0241216793093284,
                    1.1742829457546524,
                    0.7619460027814462,
                    1.3983321500243207,
                    -1.8853182344603479
                  ]
                }
              ],
              "layout": {
                "height": 600,
                "legend": {
                  "title": {
                    "text": "color"
                  },
                  "tracegroupgap": 0
                },
                "scene": {
                  "domain": {
                    "x": [
                      0,
                      1
                    ],
                    "y": [
                      0,
                      1
                    ]
                  },
                  "xaxis": {
                    "title": {
                      "text": "PC1 67.13%"
                    }
                  },
                  "yaxis": {
                    "title": {
                      "text": "PC2 5.07%"
                    }
                  },
                  "zaxis": {
                    "title": {
                      "text": "PC3 3.11%"
                    }
                  }
                },
                "template": {
                  "data": {
                    "bar": [
                      {
                        "error_x": {
                          "color": "#2a3f5f"
                        },
                        "error_y": {
                          "color": "#2a3f5f"
                        },
                        "marker": {
                          "line": {
                            "color": "white",
                            "width": 0.5
                          },
                          "pattern": {
                            "fillmode": "overlay",
                            "size": 10,
                            "solidity": 0.2
                          }
                        },
                        "type": "bar"
                      }
                    ],
                    "barpolar": [
                      {
                        "marker": {
                          "line": {
                            "color": "white",
                            "width": 0.5
                          },
                          "pattern": {
                            "fillmode": "overlay",
                            "size": 10,
                            "solidity": 0.2
                          }
                        },
                        "type": "barpolar"
                      }
                    ],
                    "carpet": [
                      {
                        "aaxis": {
                          "endlinecolor": "#2a3f5f",
                          "gridcolor": "#C8D4E3",
                          "linecolor": "#C8D4E3",
                          "minorgridcolor": "#C8D4E3",
                          "startlinecolor": "#2a3f5f"
                        },
                        "baxis": {
                          "endlinecolor": "#2a3f5f",
                          "gridcolor": "#C8D4E3",
                          "linecolor": "#C8D4E3",
                          "minorgridcolor": "#C8D4E3",
                          "startlinecolor": "#2a3f5f"
                        },
                        "type": "carpet"
                      }
                    ],
                    "choropleth": [
                      {
                        "colorbar": {
                          "outlinewidth": 0,
                          "ticks": ""
                        },
                        "type": "choropleth"
                      }
                    ],
                    "contour": [
                      {
                        "colorbar": {
                          "outlinewidth": 0,
                          "ticks": ""
                        },
                        "colorscale": [
                          [
                            0,
                            "#0d0887"
                          ],
                          [
                            0.1111111111111111,
                            "#46039f"
                          ],
                          [
                            0.2222222222222222,
                            "#7201a8"
                          ],
                          [
                            0.3333333333333333,
                            "#9c179e"
                          ],
                          [
                            0.4444444444444444,
                            "#bd3786"
                          ],
                          [
                            0.5555555555555556,
                            "#d8576b"
                          ],
                          [
                            0.6666666666666666,
                            "#ed7953"
                          ],
                          [
                            0.7777777777777778,
                            "#fb9f3a"
                          ],
                          [
                            0.8888888888888888,
                            "#fdca26"
                          ],
                          [
                            1,
                            "#f0f921"
                          ]
                        ],
                        "type": "contour"
                      }
                    ],
                    "contourcarpet": [
                      {
                        "colorbar": {
                          "outlinewidth": 0,
                          "ticks": ""
                        },
                        "type": "contourcarpet"
                      }
                    ],
                    "heatmap": [
                      {
                        "colorbar": {
                          "outlinewidth": 0,
                          "ticks": ""
                        },
                        "colorscale": [
                          [
                            0,
                            "#0d0887"
                          ],
                          [
                            0.1111111111111111,
                            "#46039f"
                          ],
                          [
                            0.2222222222222222,
                            "#7201a8"
                          ],
                          [
                            0.3333333333333333,
                            "#9c179e"
                          ],
                          [
                            0.4444444444444444,
                            "#bd3786"
                          ],
                          [
                            0.5555555555555556,
                            "#d8576b"
                          ],
                          [
                            0.6666666666666666,
                            "#ed7953"
                          ],
                          [
                            0.7777777777777778,
                            "#fb9f3a"
                          ],
                          [
                            0.8888888888888888,
                            "#fdca26"
                          ],
                          [
                            1,
                            "#f0f921"
                          ]
                        ],
                        "type": "heatmap"
                      }
                    ],
                    "heatmapgl": [
                      {
                        "colorbar": {
                          "outlinewidth": 0,
                          "ticks": ""
                        },
                        "colorscale": [
                          [
                            0,
                            "#0d0887"
                          ],
                          [
                            0.1111111111111111,
                            "#46039f"
                          ],
                          [
                            0.2222222222222222,
                            "#7201a8"
                          ],
                          [
                            0.3333333333333333,
                            "#9c179e"
                          ],
                          [
                            0.4444444444444444,
                            "#bd3786"
                          ],
                          [
                            0.5555555555555556,
                            "#d8576b"
                          ],
                          [
                            0.6666666666666666,
                            "#ed7953"
                          ],
                          [
                            0.7777777777777778,
                            "#fb9f3a"
                          ],
                          [
                            0.8888888888888888,
                            "#fdca26"
                          ],
                          [
                            1,
                            "#f0f921"
                          ]
                        ],
                        "type": "heatmapgl"
                      }
                    ],
                    "histogram": [
                      {
                        "marker": {
                          "pattern": {
                            "fillmode": "overlay",
                            "size": 10,
                            "solidity": 0.2
                          }
                        },
                        "type": "histogram"
                      }
                    ],
                    "histogram2d": [
                      {
                        "colorbar": {
                          "outlinewidth": 0,
                          "ticks": ""
                        },
                        "colorscale": [
                          [
                            0,
                            "#0d0887"
                          ],
                          [
                            0.1111111111111111,
                            "#46039f"
                          ],
                          [
                            0.2222222222222222,
                            "#7201a8"
                          ],
                          [
                            0.3333333333333333,
                            "#9c179e"
                          ],
                          [
                            0.4444444444444444,
                            "#bd3786"
                          ],
                          [
                            0.5555555555555556,
                            "#d8576b"
                          ],
                          [
                            0.6666666666666666,
                            "#ed7953"
                          ],
                          [
                            0.7777777777777778,
                            "#fb9f3a"
                          ],
                          [
                            0.8888888888888888,
                            "#fdca26"
                          ],
                          [
                            1,
                            "#f0f921"
                          ]
                        ],
                        "type": "histogram2d"
                      }
                    ],
                    "histogram2dcontour": [
                      {
                        "colorbar": {
                          "outlinewidth": 0,
                          "ticks": ""
                        },
                        "colorscale": [
                          [
                            0,
                            "#0d0887"
                          ],
                          [
                            0.1111111111111111,
                            "#46039f"
                          ],
                          [
                            0.2222222222222222,
                            "#7201a8"
                          ],
                          [
                            0.3333333333333333,
                            "#9c179e"
                          ],
                          [
                            0.4444444444444444,
                            "#bd3786"
                          ],
                          [
                            0.5555555555555556,
                            "#d8576b"
                          ],
                          [
                            0.6666666666666666,
                            "#ed7953"
                          ],
                          [
                            0.7777777777777778,
                            "#fb9f3a"
                          ],
                          [
                            0.8888888888888888,
                            "#fdca26"
                          ],
                          [
                            1,
                            "#f0f921"
                          ]
                        ],
                        "type": "histogram2dcontour"
                      }
                    ],
                    "mesh3d": [
                      {
                        "colorbar": {
                          "outlinewidth": 0,
                          "ticks": ""
                        },
                        "type": "mesh3d"
                      }
                    ],
                    "parcoords": [
                      {
                        "line": {
                          "colorbar": {
                            "outlinewidth": 0,
                            "ticks": ""
                          }
                        },
                        "type": "parcoords"
                      }
                    ],
                    "pie": [
                      {
                        "automargin": true,
                        "type": "pie"
                      }
                    ],
                    "scatter": [
                      {
                        "fillpattern": {
                          "fillmode": "overlay",
                          "size": 10,
                          "solidity": 0.2
                        },
                        "type": "scatter"
                      }
                    ],
                    "scatter3d": [
                      {
                        "line": {
                          "colorbar": {
                            "outlinewidth": 0,
                            "ticks": ""
                          }
                        },
                        "marker": {
                          "colorbar": {
                            "outlinewidth": 0,
                            "ticks": ""
                          }
                        },
                        "type": "scatter3d"
                      }
                    ],
                    "scattercarpet": [
                      {
                        "marker": {
                          "colorbar": {
                            "outlinewidth": 0,
                            "ticks": ""
                          }
                        },
                        "type": "scattercarpet"
                      }
                    ],
                    "scattergeo": [
                      {
                        "marker": {
                          "colorbar": {
                            "outlinewidth": 0,
                            "ticks": ""
                          }
                        },
                        "type": "scattergeo"
                      }
                    ],
                    "scattergl": [
                      {
                        "marker": {
                          "colorbar": {
                            "outlinewidth": 0,
                            "ticks": ""
                          }
                        },
                        "type": "scattergl"
                      }
                    ],
                    "scattermapbox": [
                      {
                        "marker": {
                          "colorbar": {
                            "outlinewidth": 0,
                            "ticks": ""
                          }
                        },
                        "type": "scattermapbox"
                      }
                    ],
                    "scatterpolar": [
                      {
                        "marker": {
                          "colorbar": {
                            "outlinewidth": 0,
                            "ticks": ""
                          }
                        },
                        "type": "scatterpolar"
                      }
                    ],
                    "scatterpolargl": [
                      {
                        "marker": {
                          "colorbar": {
                            "outlinewidth": 0,
                            "ticks": ""
                          }
                        },
                        "type": "scatterpolargl"
                      }
                    ],
                    "scatterternary": [
                      {
                        "marker": {
                          "colorbar": {
                            "outlinewidth": 0,
                            "ticks": ""
                          }
                        },
                        "type": "scatterternary"
                      }
                    ],
                    "surface": [
                      {
                        "colorbar": {
                          "outlinewidth": 0,
                          "ticks": ""
                        },
                        "colorscale": [
                          [
                            0,
                            "#0d0887"
                          ],
                          [
                            0.1111111111111111,
                            "#46039f"
                          ],
                          [
                            0.2222222222222222,
                            "#7201a8"
                          ],
                          [
                            0.3333333333333333,
                            "#9c179e"
                          ],
                          [
                            0.4444444444444444,
                            "#bd3786"
                          ],
                          [
                            0.5555555555555556,
                            "#d8576b"
                          ],
                          [
                            0.6666666666666666,
                            "#ed7953"
                          ],
                          [
                            0.7777777777777778,
                            "#fb9f3a"
                          ],
                          [
                            0.8888888888888888,
                            "#fdca26"
                          ],
                          [
                            1,
                            "#f0f921"
                          ]
                        ],
                        "type": "surface"
                      }
                    ],
                    "table": [
                      {
                        "cells": {
                          "fill": {
                            "color": "#EBF0F8"
                          },
                          "line": {
                            "color": "white"
                          }
                        },
                        "header": {
                          "fill": {
                            "color": "#C8D4E3"
                          },
                          "line": {
                            "color": "white"
                          }
                        },
                        "type": "table"
                      }
                    ]
                  },
                  "layout": {
                    "annotationdefaults": {
                      "arrowcolor": "#2a3f5f",
                      "arrowhead": 0,
                      "arrowwidth": 1
                    },
                    "autotypenumbers": "strict",
                    "coloraxis": {
                      "colorbar": {
                        "outlinewidth": 0,
                        "ticks": ""
                      }
                    },
                    "colorscale": {
                      "diverging": [
                        [
                          0,
                          "#8e0152"
                        ],
                        [
                          0.1,
                          "#c51b7d"
                        ],
                        [
                          0.2,
                          "#de77ae"
                        ],
                        [
                          0.3,
                          "#f1b6da"
                        ],
                        [
                          0.4,
                          "#fde0ef"
                        ],
                        [
                          0.5,
                          "#f7f7f7"
                        ],
                        [
                          0.6,
                          "#e6f5d0"
                        ],
                        [
                          0.7,
                          "#b8e186"
                        ],
                        [
                          0.8,
                          "#7fbc41"
                        ],
                        [
                          0.9,
                          "#4d9221"
                        ],
                        [
                          1,
                          "#276419"
                        ]
                      ],
                      "sequential": [
                        [
                          0,
                          "#0d0887"
                        ],
                        [
                          0.1111111111111111,
                          "#46039f"
                        ],
                        [
                          0.2222222222222222,
                          "#7201a8"
                        ],
                        [
                          0.3333333333333333,
                          "#9c179e"
                        ],
                        [
                          0.4444444444444444,
                          "#bd3786"
                        ],
                        [
                          0.5555555555555556,
                          "#d8576b"
                        ],
                        [
                          0.6666666666666666,
                          "#ed7953"
                        ],
                        [
                          0.7777777777777778,
                          "#fb9f3a"
                        ],
                        [
                          0.8888888888888888,
                          "#fdca26"
                        ],
                        [
                          1,
                          "#f0f921"
                        ]
                      ],
                      "sequentialminus": [
                        [
                          0,
                          "#0d0887"
                        ],
                        [
                          0.1111111111111111,
                          "#46039f"
                        ],
                        [
                          0.2222222222222222,
                          "#7201a8"
                        ],
                        [
                          0.3333333333333333,
                          "#9c179e"
                        ],
                        [
                          0.4444444444444444,
                          "#bd3786"
                        ],
                        [
                          0.5555555555555556,
                          "#d8576b"
                        ],
                        [
                          0.6666666666666666,
                          "#ed7953"
                        ],
                        [
                          0.7777777777777778,
                          "#fb9f3a"
                        ],
                        [
                          0.8888888888888888,
                          "#fdca26"
                        ],
                        [
                          1,
                          "#f0f921"
                        ]
                      ]
                    },
                    "colorway": [
                      "#636efa",
                      "#EF553B",
                      "#00cc96",
                      "#ab63fa",
                      "#FFA15A",
                      "#19d3f3",
                      "#FF6692",
                      "#B6E880",
                      "#FF97FF",
                      "#FECB52"
                    ],
                    "font": {
                      "color": "#2a3f5f"
                    },
                    "geo": {
                      "bgcolor": "white",
                      "lakecolor": "white",
                      "landcolor": "white",
                      "showlakes": true,
                      "showland": true,
                      "subunitcolor": "#C8D4E3"
                    },
                    "hoverlabel": {
                      "align": "left"
                    },
                    "hovermode": "closest",
                    "mapbox": {
                      "style": "light"
                    },
                    "paper_bgcolor": "white",
                    "plot_bgcolor": "white",
                    "polar": {
                      "angularaxis": {
                        "gridcolor": "#EBF0F8",
                        "linecolor": "#EBF0F8",
                        "ticks": ""
                      },
                      "bgcolor": "white",
                      "radialaxis": {
                        "gridcolor": "#EBF0F8",
                        "linecolor": "#EBF0F8",
                        "ticks": ""
                      }
                    },
                    "scene": {
                      "xaxis": {
                        "backgroundcolor": "white",
                        "gridcolor": "#DFE8F3",
                        "gridwidth": 2,
                        "linecolor": "#EBF0F8",
                        "showbackground": true,
                        "ticks": "",
                        "zerolinecolor": "#EBF0F8"
                      },
                      "yaxis": {
                        "backgroundcolor": "white",
                        "gridcolor": "#DFE8F3",
                        "gridwidth": 2,
                        "linecolor": "#EBF0F8",
                        "showbackground": true,
                        "ticks": "",
                        "zerolinecolor": "#EBF0F8"
                      },
                      "zaxis": {
                        "backgroundcolor": "white",
                        "gridcolor": "#DFE8F3",
                        "gridwidth": 2,
                        "linecolor": "#EBF0F8",
                        "showbackground": true,
                        "ticks": "",
                        "zerolinecolor": "#EBF0F8"
                      }
                    },
                    "shapedefaults": {
                      "line": {
                        "color": "#2a3f5f"
                      }
                    },
                    "ternary": {
                      "aaxis": {
                        "gridcolor": "#DFE8F3",
                        "linecolor": "#A2B1C6",
                        "ticks": ""
                      },
                      "baxis": {
                        "gridcolor": "#DFE8F3",
                        "linecolor": "#A2B1C6",
                        "ticks": ""
                      },
                      "bgcolor": "white",
                      "caxis": {
                        "gridcolor": "#DFE8F3",
                        "linecolor": "#A2B1C6",
                        "ticks": ""
                      }
                    },
                    "title": {
                      "x": 0.05
                    },
                    "xaxis": {
                      "automargin": true,
                      "gridcolor": "#EBF0F8",
                      "linecolor": "#EBF0F8",
                      "ticks": "",
                      "title": {
                        "standoff": 15
                      },
                      "zerolinecolor": "#EBF0F8",
                      "zerolinewidth": 2
                    },
                    "yaxis": {
                      "automargin": true,
                      "gridcolor": "#EBF0F8",
                      "linecolor": "#EBF0F8",
                      "ticks": "",
                      "title": {
                        "standoff": 15
                      },
                      "zerolinecolor": "#EBF0F8",
                      "zerolinewidth": 2
                    }
                  }
                },
                "title": {
                  "text": "PCA 3D plot, colored by Class"
                },
                "width": 800
              }
            },
            "image/png": "[encoded data removed]",
            "text/html": [
              "<div>                            <div id=\"ffb0a83d-8c04-4b0c-8920-262e6728b32d\" class=\"plotly-graph-div\" style=\"height:600px; width:800px;\"></div>            <script type=\"text/javascript\">                require([\"plotly\"], function(Plotly) {                    window.PLOTLYENV=window.PLOTLYENV || {};                                    if (document.getElementById(\"ffb0a83d-8c04-4b0c-8920-262e6728b32d\")) {                    Plotly.newPlot(                        \"ffb0a83d-8c04-4b0c-8920-262e6728b32d\",                        [{\"hovertemplate\":\"color=Normal-like\\u003cbr\\u003ePC1 67.13%=%{x}\\u003cbr\\u003ePC2 5.07%=%{y}\\u003cbr\\u003ePC3 3.11%=%{z}\\u003cextra\\u003e\\u003c\\u002fextra\\u003e\",\"legendgroup\":\"Normal-like\",\"marker\":{\"color\":\"#636efa\",\"symbol\":\"circle\"},\"mode\":\"markers\",\"name\":\"Normal-like\",\"scene\":\"scene\",\"showlegend\":true,\"x\":[14.985113280210987,13.465675406435906,19.017071584739,20.259722923347688,20.118178790415282],\"y\":[1.3829963750697214,6.884973400952072,2.7809449503486423,4.310035447892956,3.7037806893279903],\"z\":[3.556199062282407,3.6680135685629853,1.645157936473217,-0.9153043272818473,-0.2032709540190729],\"type\":\"scatter3d\"},{\"hovertemplate\":\"color=Basal\\u003cbr\\u003ePC1 67.13%=%{x}\\u003cbr\\u003ePC2 5.07%=%{y}\\u003cbr\\u003ePC3 3.11%=%{z}\\u003cextra\\u003e\\u003c\\u002fextra\\u003e\",\"legendgroup\":\"Basal\",\"marker\":{\"color\":\"#EF553B\",\"symbol\":\"circle\"},\"mode\":\"markers\",\"name\":\"Basal\",\"scene\":\"scene\",\"showlegend\":true,\"x\":[11.630786255618466,12.22998118259606,12.931415319834564,16.87451502557156,9.886520943248518,15.422141147261216,13.611755679942238,6.824084184515386,11.99066906660048,10.72846077670231,9.814355645110938,14.710693849469743,14.50932628245173,14.748178616352346],\"y\":[0.9639910769803972,1.7686045018368919,2.118849447654579,0.2304382295120515,1.4391242552422803,0.985272464726469,5.434365899602463,4.913481397139892,0.40697849998178093,4.858207810641256,-3.0869990962456217,2.6891734403417473,5.737340844979277,3.4779417542640463],\"z\":[-4.142282223680839,-3.2282837593875806,-3.631804684040544,-0.22956807963200587,-0.6542414309440754,2.746387424388942,0.36832113450303794,-2.307600000081729,0.8014307296870045,-1.1910940451466456,2.449440419830997,-2.1951651327749238,-0.7092546167007594,-0.9291383362922274],\"type\":\"scatter3d\"},{\"hovertemplate\":\"color=Luminal\\u003cbr\\u003ePC1 67.13%=%{x}\\u003cbr\\u003ePC2 5.07%=%{y}\\u003cbr\\u003ePC3 3.11%=%{z}\\u003cextra\\u003e\\u003c\\u002fextra\\u003e\",\"legendgroup\":\"Luminal\",\"marker\":{\"color\":\"#00cc96\",\"symbol\":\"circle\"},\"mode\":\"markers\",\"name\":\"Luminal\",\"scene\":\"scene\",\"showlegend\":true,\"x\":[-11.539720428022099,-11.79417965740742,-16.256398617859954,-14.620790942440346,-15.121633875709515,-15.2862732001594,-10.257176287161338,-17.035919342274592,-19.758148445911154,-11.860679941253577,-5.669539307081682,-11.546532679248203,-15.148068190790989,-11.40861247397622,-14.708479952175999,-15.369183343053509,-16.51783772565243,-11.937844412483416,-9.364338019798247,-8.278663924536454,-12.005956315577274,-9.721651840388208,-16.568564764283337,-12.460689543514688,-15.820844689629718,-17.710630990102885,-14.233425562204248],\"y\":[1.686002416321907,2.5000709274740878,-2.1878761967915015,-0.8857852007875557,-3.091830151173438,0.5846508384670681,0.5259695057922578,0.6127198513858048,-2.5806241351377412,-2.468161182114633,1.5450250586854306,-0.8416093735549115,-2.2764925430926493,-4.0638459926600365,-1.1523632505816899,-1.1018623788945874,0.9769557552512804,2.417235859900842,5.801915258666115,-0.06589829613954379,-0.00020814926168810644,1.109314558997454,-0.5800118660120273,3.4986915855041953,0.779071703689679,-0.36736569787249707,-1.4067479860719292],\"z\":[6.752515506969922,-2.5787958013213954,3.5875200894651575,-2.091855041320361,-3.0028851279493134,-2.082537763160194,-3.345505957110893,-3.875804863530016,-0.3147949826144094,-2.445763800633123,1.6607324007687307,-5.085239749556879,-3.631435527902024,-2.819790855378976,4.739574274843654,5.955983202668941,0.45943467719309083,-2.5036114496704123,3.1916854155125143,5.1128599572416915,-1.0687655799790474,-2.632225834392572,-2.0678883916203663,2.51439687734521,0.45150169380956484,9.380645719358292,-3.1438529397803574],\"type\":\"scatter3d\"},{\"hovertemplate\":\"color=Claudin-low\\u003cbr\\u003ePC1 67.13%=%{x}\\u003cbr\\u003ePC2 5.07%=%{y}\\u003cbr\\u003ePC3 3.11%=%{z}\\u003cextra\\u003e\\u003c\\u002fextra\\u003e\",\"legendgroup\":\"Claudin-low\",\"marker\":{\"color\":\"#ab63fa\",\"symbol\":\"circle\"},\"mode\":\"markers\",\"name\":\"Claudin-low\",\"scene\":\"scene\",\"showlegend\":true,\"x\":[18.037467702080747,16.01851403775375,17.088355764661042,17.247500488228944,13.132612286722647,16.718688232825365],\"y\":[-7.4288712483957955,-6.940678259601535,-5.450838590725083,-11.023369654461433,-8.359416292205477,-10.763268264849081],\"z\":[0.5125966215877931,2.0241216793093284,1.1742829457546524,0.7619460027814462,1.3983321500243207,-1.8853182344603479],\"type\":\"scatter3d\"}],                        {\"template\":{\"data\":{\"barpolar\":[{\"marker\":{\"line\":{\"color\":\"white\",\"width\":0.5},\"pattern\":{\"fillmode\":\"overlay\",\"size\":10,\"solidity\":0.2}},\"type\":\"barpolar\"}],\"bar\":[{\"error_x\":{\"color\":\"#2a3f5f\"},\"error_y\":{\"color\":\"#2a3f5f\"},\"marker\":{\"line\":{\"color\":\"white\",\"width\":0.5},\"pattern\":{\"fillmode\":\"overlay\",\"size\":10,\"solidity\":0.2}},\"type\":\"bar\"}],\"carpet\":[{\"aaxis\":{\"endlinecolor\":\"#2a3f5f\",\"gridcolor\":\"#C8D4E3\",\"linecolor\":\"#C8D4E3\",\"minorgridcolor\":\"#C8D4E3\",\"startlinecolor\":\"#2a3f5f\"},\"baxis\":{\"endlinecolor\":\"#2a3f5f\",\"gridcolor\":\"#C8D4E3\",\"linecolor\":\"#C8D4E3\",\"minorgridcolor\":\"#C8D4E3\",\"startlinecolor\":\"#2a3f5f\"},\"type\":\"carpet\"}],\"choropleth\":[{\"colorbar\":{\"outlinewidth\":0,\"ticks\":\"\"},\"type\":\"choropleth\"}],\"contourcarpet\":[{\"colorbar\":{\"outlinewidth\":0,\"ticks\":\"\"},\"type\":\"contourcarpet\"}],\"contour\":[{\"colorbar\":{\"outlinewidth\":0,\"ticks\":\"\"},\"colorscale\":[[0.0,\"#0d0887\"],[0.1111111111111111,\"#46039f\"],[0.2222222222222222,\"#7201a8\"],[0.3333333333333333,\"#9c179e\"],[0.4444444444444444,\"#bd3786\"],[0.5555555555555556,\"#d8576b\"],[0.6666666666666666,\"#ed7953\"],[0.7777777777777778,\"#fb9f3a\"],[0.8888888888888888,\"#fdca26\"],[1.0,\"#f0f921\"]],\"type\":\"contour\"}],\"heatmapgl\":[{\"colorbar\":{\"outlinewidth\":0,\"ticks\":\"\"},\"colorscale\":[[0.0,\"#0d0887\"],[0.1111111111111111,\"#46039f\"],[0.2222222222222222,\"#7201a8\"],[0.3333333333333333,\"#9c179e\"],[0.4444444444444444,\"#bd3786\"],[0.5555555555555556,\"#d8576b\"],[0.6666666666666666,\"#ed7953\"],[0.7777777777777778,\"#fb9f3a\"],[0.8888888888888888,\"#fdca26\"],[1.0,\"#f0f921\"]],\"type\":\"heatmapgl\"}],\"heatmap\":[{\"colorbar\":{\"outlinewidth\":0,\"ticks\":\"\"},\"colorscale\":[[0.0,\"#0d0887\"],[0.1111111111111111,\"#46039f\"],[0.2222222222222222,\"#7201a8\"],[0.3333333333333333,\"#9c179e\"],[0.4444444444444444,\"#bd3786\"],[0.5555555555555556,\"#d8576b\"],[0.6666666666666666,\"#ed7953\"],[0.7777777777777778,\"#fb9f3a\"],[0.8888888888888888,\"#fdca26\"],[1.0,\"#f0f921\"]],\"type\":\"heatmap\"}],\"histogram2dcontour\":[{\"colorbar\":{\"outlinewidth\":0,\"ticks\":\"\"},\"colorscale\":[[0.0,\"#0d0887\"],[0.1111111111111111,\"#46039f\"],[0.2222222222222222,\"#7201a8\"],[0.3333333333333333,\"#9c179e\"],[0.4444444444444444,\"#bd3786\"],[0.5555555555555556,\"#d8576b\"],[0.6666666666666666,\"#ed7953\"],[0.7777777777777778,\"#fb9f3a\"],[0.8888888888888888,\"#fdca26\"],[1.0,\"#f0f921\"]],\"type\":\"histogram2dcontour\"}],\"histogram2d\":[{\"colorbar\":{\"outlinewidth\":0,\"ticks\":\"\"},\"colorscale\":[[0.0,\"#0d0887\"],[0.1111111111111111,\"#46039f\"],[0.2222222222222222,\"#7201a8\"],[0.3333333333333333,\"#9c179e\"],[0.4444444444444444,\"#bd3786\"],[0.5555555555555556,\"#d8576b\"],[0.6666666666666666,\"#ed7953\"],[0.7777777777777778,\"#fb9f3a\"],[0.8888888888888888,\"#fdca26\"],[1.0,\"#f0f921\"]],\"type\":\"histogram2d\"}],\"histogram\":[{\"marker\":{\"pattern\":{\"fillmode\":\"overlay\",\"size\":10,\"solidity\":0.2}},\"type\":\"histogram\"}],\"mesh3d\":[{\"colorbar\":{\"outlinewidth\":0,\"ticks\":\"\"},\"type\":\"mesh3d\"}],\"parcoords\":[{\"line\":{\"colorbar\":{\"outlinewidth\":0,\"ticks\":\"\"}},\"type\":\"parcoords\"}],\"pie\":[{\"automargin\":true,\"type\":\"pie\"}],\"scatter3d\":[{\"line\":{\"colorbar\":{\"outlinewidth\":0,\"ticks\":\"\"}},\"marker\":{\"colorbar\":{\"outlinewidth\":0,\"ticks\":\"\"}},\"type\":\"scatter3d\"}],\"scattercarpet\":[{\"marker\":{\"colorbar\":{\"outlinewidth\":0,\"ticks\":\"\"}},\"type\":\"scattercarpet\"}],\"scattergeo\":[{\"marker\":{\"colorbar\":{\"outlinewidth\":0,\"ticks\":\"\"}},\"type\":\"scattergeo\"}],\"scattergl\":[{\"marker\":{\"colorbar\":{\"outlinewidth\":0,\"ticks\":\"\"}},\"type\":\"scattergl\"}],\"scattermapbox\":[{\"marker\":{\"colorbar\":{\"outlinewidth\":0,\"ticks\":\"\"}},\"type\":\"scattermapbox\"}],\"scatterpolargl\":[{\"marker\":{\"colorbar\":{\"outlinewidth\":0,\"ticks\":\"\"}},\"type\":\"scatterpolargl\"}],\"scatterpolar\":[{\"marker\":{\"colorbar\":{\"outlinewidth\":0,\"ticks\":\"\"}},\"type\":\"scatterpolar\"}],\"scatter\":[{\"fillpattern\":{\"fillmode\":\"overlay\",\"size\":10,\"solidity\":0.2},\"type\":\"scatter\"}],\"scatterternary\":[{\"marker\":{\"colorbar\":{\"outlinewidth\":0,\"ticks\":\"\"}},\"type\":\"scatterternary\"}],\"surface\":[{\"colorbar\":{\"outlinewidth\":0,\"ticks\":\"\"},\"colorscale\":[[0.0,\"#0d0887\"],[0.1111111111111111,\"#46039f\"],[0.2222222222222222,\"#7201a8\"],[0.3333333333333333,\"#9c179e\"],[0.4444444444444444,\"#bd3786\"],[0.5555555555555556,\"#d8576b\"],[0.6666666666666666,\"#ed7953\"],[0.7777777777777778,\"#fb9f3a\"],[0.8888888888888888,\"#fdca26\"],[1.0,\"#f0f921\"]],\"type\":\"surface\"}],\"table\":[{\"cells\":{\"fill\":{\"color\":\"#EBF0F8\"},\"line\":{\"color\":\"white\"}},\"header\":{\"fill\":{\"color\":\"#C8D4E3\"},\"line\":{\"color\":\"white\"}},\"type\":\"table\"}]},\"layout\":{\"annotationdefaults\":{\"arrowcolor\":\"#2a3f5f\",\"arrowhead\":0,\"arrowwidth\":1},\"autotypenumbers\":\"strict\",\"coloraxis\":{\"colorbar\":{\"outlinewidth\":0,\"ticks\":\"\"}},\"colorscale\":{\"diverging\":[[0,\"#8e0152\"],[0.1,\"#c51b7d\"],[0.2,\"#de77ae\"],[0.3,\"#f1b6da\"],[0.4,\"#fde0ef\"],[0.5,\"#f7f7f7\"],[0.6,\"#e6f5d0\"],[0.7,\"#b8e186\"],[0.8,\"#7fbc41\"],[0.9,\"#4d9221\"],[1,\"#276419\"]],\"sequential\":[[0.0,\"#0d0887\"],[0.1111111111111111,\"#46039f\"],[0.2222222222222222,\"#7201a8\"],[0.3333333333333333,\"#9c179e\"],[0.4444444444444444,\"#bd3786\"],[0.5555555555555556,\"#d8576b\"],[0.6666666666666666,\"#ed7953\"],[0.7777777777777778,\"#fb9f3a\"],[0.8888888888888888,\"#fdca26\"],[1.0,\"#f0f921\"]],\"sequentialminus\":[[0.0,\"#0d0887\"],[0.1111111111111111,\"#46039f\"],[0.2222222222222222,\"#7201a8\"],[0.3333333333333333,\"#9c179e\"],[0.4444444444444444,\"#bd3786\"],[0.5555555555555556,\"#d8576b\"],[0.6666666666666666,\"#ed7953\"],[0.7777777777777778,\"#fb9f3a\"],[0.8888888888888888,\"#fdca26\"],[1.0,\"#f0f921\"]]},\"colorway\":[\"#636efa\",\"#EF553B\",\"#00cc96\",\"#ab63fa\",\"#FFA15A\",\"#19d3f3\",\"#FF6692\",\"#B6E880\",\"#FF97FF\",\"#FECB52\"],\"font\":{\"color\":\"#2a3f5f\"},\"geo\":{\"bgcolor\":\"white\",\"lakecolor\":\"white\",\"landcolor\":\"white\",\"showlakes\":true,\"showland\":true,\"subunitcolor\":\"#C8D4E3\"},\"hoverlabel\":{\"align\":\"left\"},\"hovermode\":\"closest\",\"mapbox\":{\"style\":\"light\"},\"paper_bgcolor\":\"white\",\"plot_bgcolor\":\"white\",\"polar\":{\"angularaxis\":{\"gridcolor\":\"#EBF0F8\",\"linecolor\":\"#EBF0F8\",\"ticks\":\"\"},\"bgcolor\":\"white\",\"radialaxis\":{\"gridcolor\":\"#EBF0F8\",\"linecolor\":\"#EBF0F8\",\"ticks\":\"\"}},\"scene\":{\"xaxis\":{\"backgroundcolor\":\"white\",\"gridcolor\":\"#DFE8F3\",\"gridwidth\":2,\"linecolor\":\"#EBF0F8\",\"showbackground\":true,\"ticks\":\"\",\"zerolinecolor\":\"#EBF0F8\"},\"yaxis\":{\"backgroundcolor\":\"white\",\"gridcolor\":\"#DFE8F3\",\"gridwidth\":2,\"linecolor\":\"#EBF0F8\",\"showbackground\":true,\"ticks\":\"\",\"zerolinecolor\":\"#EBF0F8\"},\"zaxis\":{\"backgroundcolor\":\"white\",\"gridcolor\":\"#DFE8F3\",\"gridwidth\":2,\"linecolor\":\"#EBF0F8\",\"showbackground\":true,\"ticks\":\"\",\"zerolinecolor\":\"#EBF0F8\"}},\"shapedefaults\":{\"line\":{\"color\":\"#2a3f5f\"}},\"ternary\":{\"aaxis\":{\"gridcolor\":\"#DFE8F3\",\"linecolor\":\"#A2B1C6\",\"ticks\":\"\"},\"baxis\":{\"gridcolor\":\"#DFE8F3\",\"linecolor\":\"#A2B1C6\",\"ticks\":\"\"},\"bgcolor\":\"white\",\"caxis\":{\"gridcolor\":\"#DFE8F3\",\"linecolor\":\"#A2B1C6\",\"ticks\":\"\"}},\"title\":{\"x\":0.05},\"xaxis\":{\"automargin\":true,\"gridcolor\":\"#EBF0F8\",\"linecolor\":\"#EBF0F8\",\"ticks\":\"\",\"title\":{\"standoff\":15},\"zerolinecolor\":\"#EBF0F8\",\"zerolinewidth\":2},\"yaxis\":{\"automargin\":true,\"gridcolor\":\"#EBF0F8\",\"linecolor\":\"#EBF0F8\",\"ticks\":\"\",\"title\":{\"standoff\":15},\"zerolinecolor\":\"#EBF0F8\",\"zerolinewidth\":2}}},\"scene\":{\"domain\":{\"x\":[0.0,1.0],\"y\":[0.0,1.0]},\"xaxis\":{\"title\":{\"text\":\"PC1 67.13%\"}},\"yaxis\":{\"title\":{\"text\":\"PC2 5.07%\"}},\"zaxis\":{\"title\":{\"text\":\"PC3 3.11%\"}}},\"legend\":{\"title\":{\"text\":\"color\"},\"tracegroupgap\":0},\"title\":{\"text\":\"PCA 3D plot, colored by Class\"},\"height\":600,\"width\":800},                        {\"responsive\": true}                    ).then(function(){\n",
              "                            \n",
              "var gd = document.getElementById('ffb0a83d-8c04-4b0c-8920-262e6728b32d');\n",
              "var x = new MutationObserver(function (mutations, observer) {{\n",
              "        var display = window.getComputedStyle(gd).display;\n",
              "        if (!display || display === 'none') {{\n",
              "            console.log([gd, 'removed!']);\n",
              "            Plotly.purge(gd);\n",
              "            observer.disconnect();\n",
              "        }}\n",
              "}});\n",
              "\n",
              "// Listen for the removal of the full notebook cells\n",
              "var notebookContainer = gd.closest('#notebook-container');\n",
              "if (notebookContainer) {{\n",
              "    x.observe(notebookContainer, {childList: true});\n",
              "}}\n",
              "\n",
              "// Listen for the clearing of the current output cell\n",
              "var outputEl = gd.closest('.output');\n",
              "if (outputEl) {{\n",
              "    x.observe(outputEl, {childList: true});\n",
              "}}\n",
              "\n",
              "                        })                };                });            </script>        </div>"
            ]
          },
          "metadata": {},
          "output_type": "display_data"
        }
      ],
      "source": [
        "selected_features = forest_importances.index.tolist()\n",
        "\n",
        "dataT1 = dataT[dataT.columns.intersection(selected_features)]\n",
        "print(\"new dimensions of select features: \", dataT1.shape)\n",
        "\n",
        "#Run Principal Component Analysis\n",
        "pca = PCA(n_components=3)\n",
        "pca.fit(dataT1)\n",
        "xpca = pca.transform(dataT1)\n",
        "\n",
        "PC1_label = \"PC1 {}%\".format(round((100*pca.explained_variance_ratio_[0]),2))\n",
        "PC2_label = \"PC2 {}%\".format(round((100*pca.explained_variance_ratio_[1]),2))\n",
        "PC3_label = \"PC3 {}%\".format(round((100*pca.explained_variance_ratio_[2]),2))\n",
        "\n",
        "#create dataframe for PCA\n",
        "df_pca = pd.DataFrame(xpca)\n",
        "df_pca.columns = [PC1_label,PC2_label,PC3_label]\n",
        "\n",
        "#visualize\n",
        "figPCA = px.scatter_3d(df_pca, x=PC1_label, y=PC2_label, z=PC3_label,\n",
        "                       title=\"PCA 3D plot, colored by Class\", color=cat,\n",
        "                       template=\"plotly_white\", height=600, width=800)\n",
        "figPCA.show()"
      ]
    },
    {
      "cell_type": "code",
      "execution_count": null,
      "metadata": {
        "colab": {
          "base_uri": "https://localhost:8080/",
          "height": 817
        },
        "id": "F-iClPAQ0jav",
        "outputId": "8db7ccf4-981f-43b7-939e-b6e7f9d7b60a"
      },
      "outputs": [
        {
          "ename": "ValueError",
          "evalue": "\nImage export using the \"kaleido\" engine requires the kaleido package,\nwhich can be installed using pip:\n    $ pip install -U kaleido\n",
          "output_type": "error",
          "traceback": [
            "\u001b[0;31m---------------------------------------------------------------------------\u001b[0m",
            "\u001b[0;31mValueError\u001b[0m                                Traceback (most recent call last)",
            "Cell \u001b[0;32mIn[116], line 1\u001b[0m\n\u001b[0;32m----> 1\u001b[0m img_bytes \u001b[38;5;241m=\u001b[39m figPCA\u001b[38;5;241m.\u001b[39mto_image(\u001b[38;5;28mformat\u001b[39m\u001b[38;5;241m=\u001b[39m\u001b[38;5;124m\"\u001b[39m\u001b[38;5;124mpng\u001b[39m\u001b[38;5;124m\"\u001b[39m, width\u001b[38;5;241m=\u001b[39m\u001b[38;5;241m800\u001b[39m, height\u001b[38;5;241m=\u001b[39m\u001b[38;5;241m800\u001b[39m, scale\u001b[38;5;241m=\u001b[39m\u001b[38;5;241m1\u001b[39m)\n\u001b[1;32m      2\u001b[0m Image(img_bytes)\n",
            "File \u001b[0;32m/opt/anaconda3/lib/python3.12/site-packages/plotly/basedatatypes.py:3772\u001b[0m, in \u001b[0;36mBaseFigure.to_image\u001b[0;34m(self, *args, **kwargs)\u001b[0m\n\u001b[1;32m   3717\u001b[0m \u001b[38;5;250m\u001b[39m\u001b[38;5;124;03m\"\"\"\u001b[39;00m\n\u001b[1;32m   3718\u001b[0m \u001b[38;5;124;03mConvert a figure to a static image bytes string\u001b[39;00m\n\u001b[1;32m   3719\u001b[0m \n\u001b[0;32m   (...)\u001b[0m\n\u001b[1;32m   3768\u001b[0m \u001b[38;5;124;03m    The image data\u001b[39;00m\n\u001b[1;32m   3769\u001b[0m \u001b[38;5;124;03m\"\"\"\u001b[39;00m\n\u001b[1;32m   3770\u001b[0m \u001b[38;5;28;01mimport\u001b[39;00m \u001b[38;5;21;01mplotly\u001b[39;00m\u001b[38;5;21;01m.\u001b[39;00m\u001b[38;5;21;01mio\u001b[39;00m \u001b[38;5;28;01mas\u001b[39;00m \u001b[38;5;21;01mpio\u001b[39;00m\n\u001b[0;32m-> 3772\u001b[0m \u001b[38;5;28;01mreturn\u001b[39;00m pio\u001b[38;5;241m.\u001b[39mto_image(\u001b[38;5;28mself\u001b[39m, \u001b[38;5;241m*\u001b[39margs, \u001b[38;5;241m*\u001b[39m\u001b[38;5;241m*\u001b[39mkwargs)\n",
            "File \u001b[0;32m/opt/anaconda3/lib/python3.12/site-packages/plotly/io/_kaleido.py:132\u001b[0m, in \u001b[0;36mto_image\u001b[0;34m(fig, format, width, height, scale, validate, engine)\u001b[0m\n\u001b[1;32m    130\u001b[0m     \u001b[38;5;66;03m# Raise informative error message if Kaleido is not installed\u001b[39;00m\n\u001b[1;32m    131\u001b[0m     \u001b[38;5;28;01mif\u001b[39;00m scope \u001b[38;5;129;01mis\u001b[39;00m \u001b[38;5;28;01mNone\u001b[39;00m:\n\u001b[0;32m--> 132\u001b[0m         \u001b[38;5;28;01mraise\u001b[39;00m \u001b[38;5;167;01mValueError\u001b[39;00m(\n\u001b[1;32m    133\u001b[0m \u001b[38;5;250m            \u001b[39m\u001b[38;5;124;03m\"\"\"\u001b[39;00m\n\u001b[1;32m    134\u001b[0m \u001b[38;5;124;03mImage export using the \"kaleido\" engine requires the kaleido package,\u001b[39;00m\n\u001b[1;32m    135\u001b[0m \u001b[38;5;124;03mwhich can be installed using pip:\u001b[39;00m\n\u001b[1;32m    136\u001b[0m \u001b[38;5;124;03m    $ pip install -U kaleido\u001b[39;00m\n\u001b[1;32m    137\u001b[0m \u001b[38;5;124;03m\"\"\"\u001b[39;00m\n\u001b[1;32m    138\u001b[0m         )\n\u001b[1;32m    140\u001b[0m     \u001b[38;5;66;03m# Validate figure\u001b[39;00m\n\u001b[1;32m    141\u001b[0m     \u001b[38;5;66;03m# ---------------\u001b[39;00m\n\u001b[1;32m    142\u001b[0m     fig_dict \u001b[38;5;241m=\u001b[39m validate_coerce_fig_to_dict(fig, validate)\n",
            "\u001b[0;31mValueError\u001b[0m: \nImage export using the \"kaleido\" engine requires the kaleido package,\nwhich can be installed using pip:\n    $ pip install -U kaleido\n"
          ]
        }
      ],
      "source": [
        "img_bytes = figPCA.to_image(format=\"png\", width=800, height=800, scale=1)\n",
        "Image(img_bytes)"
      ]
    },
    {
      "cell_type": "markdown",
      "metadata": {
        "id": "YoQVBVoF9Z8s"
      },
      "source": [
        "# Questions for Reflection:\n",
        "How did hyperparameters change accuracy of the model?\n",
        "How many significant genes did we use for PCA?\n",
        "How did the 'variance explained' of the PCA improve after feature selection?"
      ]
    },
    {
      "cell_type": "code",
      "execution_count": null,
      "metadata": {
        "id": "9uOamNJjf06m"
      },
      "outputs": [],
      "source": []
    },
    {
      "cell_type": "code",
      "execution_count": null,
      "metadata": {
        "id": "Ti9dDkCdf06m"
      },
      "outputs": [],
      "source": []
    },
    {
      "cell_type": "code",
      "execution_count": null,
      "metadata": {
        "id": "NTzVz4D7f06m"
      },
      "outputs": [],
      "source": []
    },
    {
      "cell_type": "code",
      "execution_count": null,
      "metadata": {
        "id": "ZyjM2hXFf06m"
      },
      "outputs": [],
      "source": []
    }
  ],
  "metadata": {
    "colab": {
      "provenance": [],
      "include_colab_link": true
    },
    "kernelspec": {
      "display_name": "Python [conda env:base] *",
      "language": "python",
      "name": "conda-base-py"
    },
    "language_info": {
      "codemirror_mode": {
        "name": "ipython",
        "version": 3
      },
      "file_extension": ".py",
      "mimetype": "text/x-python",
      "name": "python",
      "nbconvert_exporter": "python",
      "pygments_lexer": "ipython3",
      "version": "3.12.7"
    }
  },
  "nbformat": 4,
  "nbformat_minor": 0
}